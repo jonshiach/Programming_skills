{
 "cells": [
  {
   "cell_type": "markdown",
   "metadata": {},
   "source": [
    "## Linear Algebra and Programming Skills\n",
    "*Dr Jon Shiach, Department of Computing and Mathematics, Manchester Metropolitan University*"
   ]
  },
  {
   "cell_type": "markdown",
   "metadata": {
    "colab_type": "text",
    "id": "Mv_GDcyVYzc9"
   },
   "source": [
    "---\n",
    "# Plotting\n",
    "\n",
    "### Table of contents\n",
    "\n",
    "1. [Line plot](#Line-plot)\n",
    "1. [Axis labels and title](#Axis-labels-and-title)\n",
    "1. [Saving a plot to file](#Saving-a-plot-to-file)\n",
    "1. [Exercise 1 - Line plots](#Exercise-1---Line-plots)\n",
    "1. [Multiple plots on the same axes](#Multiple-plots-on-the-same-axes)\n",
    "1. [Exercise 2 - Multiple plots on the same axis](#Exercise-2---Multiple-plots-on-the-same-axis)\n",
    "1. [Scatter plots](#Scatter-plots)\n",
    "1. [Exercise 3 - Scatter plots](#Exercise-3---Scatter-plots)\n",
    "1. [3D plots](#3D-plots)\n",
    "1. [Exercise 4 - 3D plots](#Exercise-4---3D-plots)\n",
    "1. [Contour plots](#Contour-plots)\n",
    "1. [Exercise 5 - Contour plots](#Exercise-5---Contour-plots)\n",
    "1. [Image plots](#Image-plots)\n",
    "1. [Exercise 6 - Image plots](#Exercise-6---Image-plots)\n",
    "\n",
    "\n",
    "#### Learning Outcomes\n",
    "\n",
    "On successful completion of this page readers will be able to:\n",
    "\n",
    "- use Python to produce line, scatter, surface and contour plots\n",
    "- add axes labels, titles and legends to the plot axes;\n",
    "- plot polygons;\n",
    "- create image plots of pixel data;\n",
    "- save plots to a file.\n",
    "\n",
    "\n",
    "We can use Python to produce plots of data and save them to a file. Here we will look at how we can create the most common types of plots."
   ]
  },
  {
   "cell_type": "markdown",
   "metadata": {
    "colab_type": "text",
    "id": "r3r5abrwzWFM"
   },
   "source": [
    "---\n",
    "## matplotlib\n",
    "[matplotlib](https://matplotlib.org/) is a library of functions that allows us to produce plots of data within a Python program. Like with other libraries, we need to import it using the `import` command. For example, to import the `matplotlib` module `pyplot` which is used for the most common plots execute the code cell below."
   ]
  },
  {
   "cell_type": "code",
   "execution_count": null,
   "metadata": {},
   "outputs": [],
   "source": [
    "import matplotlib.pyplot as plt"
   ]
  },
  {
   "cell_type": "markdown",
   "metadata": {
    "colab_type": "text",
    "id": "r3r5abrwzWFM"
   },
   "source": [
    "This will allow us to call `pyplot` functions using the precursor `plt.`."
   ]
  },
  {
   "cell_type": "markdown",
   "metadata": {
    "colab_type": "text",
    "id": "QHGJfDcw1_-y"
   },
   "source": [
    "## Figure and axis objects\n",
    "Before we can produce a plot we need to create a figure object and an axis object. The simplest way to do this is to use the `plt.subplots` command ([pyplot.subplots help page](https://matplotlib.org/3.2.1/api/_as_gen/matplotlib.pyplot.subplots.html)).\n",
    "\n",
    "```\n",
    "fig, ax = plt.subplots()\n",
    "```\n",
    "\n",
    "Here `fig` and `ax` are the names we have given to the figure and axis objects respectively (think of these as variable names)."
   ]
  },
  {
   "cell_type": "markdown",
   "metadata": {
    "colab_type": "text",
    "id": "lC040L7z1_-z"
   },
   "source": [
    "---\n",
    "## Line plot\n",
    "To plot a simple two-dimensional function we can use the `plt.plot` command ([pyplot.plot help page](https://matplotlib.org/stable/api/_as_gen/matplotlib.pyplot.plot.html)).\n",
    "\n",
    "```Python\n",
    "plt.plot(x, y)\n",
    "plt.show()\n",
    "```\n",
    "\n",
    "where `x` and `y` are one-dimensional arrays. The `plt.show()` command is used to show the current plot.\n",
    "\n",
    "The NumPy command `np.linspace` is useful for generating an array of `x` values ([numpy.linspace help page](https://numpy.org/devdocs/reference/generated/numpy.linspace.html)).\n",
    "\n",
    "```\n",
    "x = np.linspace(start, end, num)\n",
    "```\n",
    "\n",
    "This creates an array `x` with `num` equally spaced values between `start` and `end` inclusive."
   ]
  },
  {
   "cell_type": "markdown",
   "metadata": {
    "colab_type": "text",
    "id": "LpNf7XNr1_-0"
   },
   "source": [
    "#### Example 1\n",
    "\n",
    "The Python code below plots the function $y=x^2$. Enter it into the code cell below and execute it to see the result.\n",
    "\n",
    "```Python\n",
    "import numpy as np\n",
    "\n",
    "# Generate co-ordiante arrays\n",
    "x = np.linspace(-2, 2, 50)\n",
    "y = x ** 2\n",
    "\n",
    "# Plot figure\n",
    "fig, ax = plt.subplots()\n",
    "plt.plot(x, y)\n",
    "\n",
    "plt.show()\n",
    "```"
   ]
  },
  {
   "cell_type": "code",
   "execution_count": null,
   "metadata": {
    "colab": {
     "base_uri": "https://localhost:8080/",
     "height": 265
    },
    "colab_type": "code",
    "executionInfo": {
     "elapsed": 1028,
     "status": "ok",
     "timestamp": 1587980299167,
     "user": {
      "displayName": "Jon Shiach",
      "photoUrl": "https://lh3.googleusercontent.com/a-/AOh14Gg5Zyp_bzksR5YWaZRwn4VACXUUvYtqWkv2YE_k6g=s64",
      "userId": "13042916198969597424"
     },
     "user_tz": -60
    },
    "id": "jdciYBH81_-1",
    "outputId": "10402a08-4215-4e4e-9483-2ff59ac2421a"
   },
   "outputs": [],
   "source": []
  },
  {
   "cell_type": "markdown",
   "metadata": {
    "colab_type": "text",
    "id": "teIyn7K21_-7"
   },
   "source": [
    "---\n",
    "### Plot styles\n",
    "\n",
    "We can change the appearance of the line by specifying the format after the co-ordinates in the `plt.plot` command. \n",
    "\n",
    "```Python\n",
    "plt.plot(x, y, fmt)\n",
    "```\n",
    "\n",
    "Where `fmt` is a character string that specifies the colour, marker and line styles.\n",
    "\n",
    "```\n",
    "fmt = '[marker][line][colour]'\n",
    "```\n",
    "\n",
    "The characters for some of the marker, line and colour styles are shown in the table below. Note that these are optional, e.g., if no marker character is specified then the data will be plotted as a line without markers. Also it doesn't matter what order the characters in `fmt` are, e.g., `'r-o'` produces the same result as `'o-r'`.\n",
    "\n",
    "| Character | Description | Character | Description | Character | Description |\n",
    "| :--: | :-- | :--: | :-- | :--: | :-- |\n",
    "| `'.'` | point marker         | `'-'`  | solid line    | `'b'` | blue     \n",
    "| `','` | pixel marker         | `'--'` | dashed line   | `'g'` | green    \n",
    "| `'o'` | circle marker        | `'-.'` | dash-dot line | `'r'` | red      \n",
    "| `'v'` | triangle down marker | `':'`  | dotted line   | `'c'` | cyan     \n",
    "| `'^'` | triangle up marker   |        |               | `'m'` | magenta  \n",
    "| `'s'` | square marker        |        |               | `'y'` | yellow   \n",
    "| `'*'` | star marker          |        |               | `'k'` | black    \n",
    "| `'+'` | plus marker          |        |               | `'w'` | white    \n",
    "| `'x'` | x marker             |        |               |       |          "
   ]
  },
  {
   "cell_type": "markdown",
   "metadata": {
    "colab_type": "text",
    "id": "094WebTb1_-8"
   },
   "source": [
    "#### Example 2\n",
    "\n",
    "The Python commands below plots the same function $y=x^2$ from [example 1](#Example-1) using a red line with a circle marking each point (the `fig` command tells Python to show the figure `fig` again so we can see the affect of the changes). Enter them into the code cell below and execute it to see the result.\n",
    "\n",
    "```Python\n",
    "fig, ax = plt.subplots()\n",
    "plt.plot(x, y, 'r-o')    # Plot red line with circle markers\n",
    "\n",
    "plt.show()\n",
    "```\n"
   ]
  },
  {
   "cell_type": "code",
   "execution_count": null,
   "metadata": {
    "colab": {
     "base_uri": "https://localhost:8080/",
     "height": 265
    },
    "colab_type": "code",
    "executionInfo": {
     "elapsed": 1460,
     "status": "ok",
     "timestamp": 1587980299610,
     "user": {
      "displayName": "Jon Shiach",
      "photoUrl": "https://lh3.googleusercontent.com/a-/AOh14Gg5Zyp_bzksR5YWaZRwn4VACXUUvYtqWkv2YE_k6g=s64",
      "userId": "13042916198969597424"
     },
     "user_tz": -60
    },
    "id": "tgVSfU7l1_-8",
    "outputId": "03c7aa3c-77a7-4861-b6a2-1ce1366f8e01"
   },
   "outputs": [],
   "source": []
  },
  {
   "cell_type": "markdown",
   "metadata": {
    "colab_type": "text",
    "id": "Lg0cZ_T_1__E"
   },
   "source": [
    "---\n",
    "## Changing the axes\n",
    "\n",
    "### Axis scale\n",
    "\n",
    "The axis scale can be adjusted using the `plt.xlim` and `plt.ylim` commands ([pyplot.xlim help page](https://matplotlib.org/stable/api/_as_gen/matplotlib.pyplot.xlim.html?highlight=xlim#matplotlib.pyplot.xlim))\n",
    "\n",
    "```Python\n",
    "plt.xlim(xmin, xmax)\n",
    "plt.ylim(ymin, ymax)\n",
    "```\n",
    "\n",
    "where `xmin` and `xmax` are the minimum and maximum value on the $x$-axis (and similar for $y$)."
   ]
  },
  {
   "cell_type": "markdown",
   "metadata": {
    "colab_type": "text",
    "id": "qCIqTV2n1__J"
   },
   "source": [
    "### Setting the aspect ratio\n",
    "We can set the aspect ratio of the plot which controls the height and with of the axes using the `ax.set_aspect` command ([pyplot.set_aspect help page](https://matplotlib.org/stable/api/_as_gen/matplotlib.axes.Axes.set_aspect.html))\n",
    "\n",
    "```Python\n",
    "ax.set_aspect(value)\n",
    "```\n",
    "\n",
    "Here `value` is either `'auto'`, `'equal'` or `num` as described in the table below.\n",
    "\n",
    "| value | description |\n",
    "| :--: | :-- |\n",
    "|`'auto'` | automatic; fill the position rectangle with data |\n",
    "| `'equal'` | same scaling from data to plot units for $x$ and $y$ |\n",
    "| `num` | a circle will be stretched such that the height is `num` times the width |"
   ]
  },
  {
   "cell_type": "markdown",
   "metadata": {
    "colab_type": "text",
    "id": "3vi9KzTV1__E"
   },
   "source": [
    "#### Example 3\n",
    "The commands below change the axis limits and aspect ratio to the plot from [example 2](#Example-2). Enter them into the code cell below and execute it to see the result.\n",
    "\n",
    "```Python\n",
    "fig, ax = plt.subplots()\n",
    "plt.plot(x, y, 'r-o')  # Plot red line with circle markers\n",
    "\n",
    "plt.xlim(0, 2)         # set x axis range to [-1, 1]\n",
    "plt.ylim(0, 2)         # set y axis range to [-1, 2]\n",
    "ax.set_aspect('equal') # set aspect ratio to 'equal'\n",
    "\n",
    "plt.show()\n",
    "```"
   ]
  },
  {
   "cell_type": "code",
   "execution_count": null,
   "metadata": {
    "colab": {
     "base_uri": "https://localhost:8080/",
     "height": 269
    },
    "colab_type": "code",
    "executionInfo": {
     "elapsed": 1385,
     "status": "ok",
     "timestamp": 1587980299611,
     "user": {
      "displayName": "Jon Shiach",
      "photoUrl": "https://lh3.googleusercontent.com/a-/AOh14Gg5Zyp_bzksR5YWaZRwn4VACXUUvYtqWkv2YE_k6g=s64",
      "userId": "13042916198969597424"
     },
     "user_tz": -60
    },
    "id": "SGXY2jH-1__F",
    "outputId": "e73d0e94-19e2-4b7e-f007-b233aca75e0f",
    "scrolled": true
   },
   "outputs": [],
   "source": []
  },
  {
   "cell_type": "markdown",
   "metadata": {
    "colab_type": "text",
    "id": "SrL-yQX31__N"
   },
   "source": [
    "## Axis labels and title\n",
    "Axis labels and titles can be added to a plot using the `plt.xlabel`, `plt.ylabel` and `plt.title` commands ([plt.xlabel help page](https://matplotlib.org/stable/api/_as_gen/matplotlib.pyplot.xlabel.html?highlight=xlabel#matplotlib.pyplot.xlabel), [plt.title help page](https://matplotlib.org/stable/api/_as_gen/matplotlib.pyplot.title.html?highlight=title#matplotlib.pyplot.title)).\n",
    "\n",
    "```\n",
    "plt.xlabel('x axis label', fontsize=size)\n",
    "plt.ylabel('y axis label', fontsize=size)\n",
    "plt.title('plot title', fontsize=size)\n",
    "```\n",
    "\n",
    "Where `fontsize=size` is optional and specifies fontsize in pt."
   ]
  },
  {
   "cell_type": "markdown",
   "metadata": {
    "colab_type": "text",
    "id": "tSUwQyos1__O"
   },
   "source": [
    "#### Example 4\n",
    "The following commands add axis labels and title to the plot from [example 2](#Example-2). Enter them into the code cell below and execute it to see the result.\n",
    "\n",
    "```Python\n",
    "fig, ax = plt.subplots()\n",
    "plt.plot(x, y, 'r-o')\n",
    "\n",
    "plt.xlabel('x', fontsize=12)      # x axis label\n",
    "plt.ylabel('y', fontsize=12)      # y axis label\n",
    "plt.title('y = x^2', fontsize=12) # plot title\n",
    "\n",
    "plt.show()\n",
    "```"
   ]
  },
  {
   "cell_type": "code",
   "execution_count": null,
   "metadata": {
    "colab": {
     "base_uri": "https://localhost:8080/",
     "height": 295
    },
    "colab_type": "code",
    "executionInfo": {
     "elapsed": 1665,
     "status": "ok",
     "timestamp": 1587980299915,
     "user": {
      "displayName": "Jon Shiach",
      "photoUrl": "https://lh3.googleusercontent.com/a-/AOh14Gg5Zyp_bzksR5YWaZRwn4VACXUUvYtqWkv2YE_k6g=s64",
      "userId": "13042916198969597424"
     },
     "user_tz": -60
    },
    "id": "8Lo9ls0X1__P",
    "outputId": "f1132a77-3b9c-44cb-bdee-a34425148347"
   },
   "outputs": [],
   "source": []
  },
  {
   "cell_type": "markdown",
   "metadata": {
    "colab_type": "text",
    "id": "kJiblmsF1__Z"
   },
   "source": [
    "---\n",
    "## Saving a plot to file\n",
    "\n",
    "We can save a figure to a file so that we can import it into other documents using the `savefig` command ([pyplot.savefig help page](https://matplotlib.org/3.2.1/api/_as_gen/matplotlib.pyplot.savefig.html)).\n",
    "\n",
    "```Python\n",
    "fig.savefig(filename)\n",
    "```\n",
    "\n",
    "Where `filename` includes the extension for the image type used. Most common image formats are supported, e.g., png, jpeg, svg etc., but png (Portable Network Graphics) files are preferred for importing into electronic documents."
   ]
  },
  {
   "cell_type": "markdown",
   "metadata": {
    "colab_type": "text",
    "id": "JCljROy21__a"
   },
   "source": [
    "#### Example 5\n",
    "The command below saves the figure `fig` as a png file using the file name `myplot.png`. Enter it into the code cell below and execute it. Check that an image file containing your plot has been produced and open it to see the result.\n",
    "\n",
    "```Python\n",
    "fig.savefig('myplot.png')    # save plot to file\n",
    "```"
   ]
  },
  {
   "cell_type": "code",
   "execution_count": null,
   "metadata": {
    "colab": {
     "base_uri": "https://localhost:8080/",
     "height": 300
    },
    "colab_type": "code",
    "executionInfo": {
     "elapsed": 569,
     "status": "ok",
     "timestamp": 1587980428714,
     "user": {
      "displayName": "Jon Shiach",
      "photoUrl": "https://lh3.googleusercontent.com/a-/AOh14Gg5Zyp_bzksR5YWaZRwn4VACXUUvYtqWkv2YE_k6g=s64",
      "userId": "13042916198969597424"
     },
     "user_tz": -60
    },
    "id": "yJX85bGg1__a",
    "outputId": "0b4c6bb5-7aa7-4fc1-b374-ebad5a69108a"
   },
   "outputs": [],
   "source": []
  },
  {
   "cell_type": "markdown",
   "metadata": {
    "colab_type": "text",
    "id": "23Q3D99B1__u"
   },
   "source": [
    "---\n",
    "## Exercise 1 - Line plots\n",
    "\n",
    "1. Reproduce the plot of $y=\\sin(x)$ over the domain $x\\in [-2\\pi, 2\\pi]$ shown below\n",
    "\n",
    "<img\n",
    "     src=\"data:image/png;base64,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\" width=500/>"
   ]
  },
  {
   "cell_type": "code",
   "execution_count": null,
   "metadata": {
    "colab": {
     "base_uri": "https://localhost:8080/",
     "height": 284
    },
    "colab_type": "code",
    "executionInfo": {
     "elapsed": 2457,
     "status": "ok",
     "timestamp": 1587980300747,
     "user": {
      "displayName": "Jon Shiach",
      "photoUrl": "https://lh3.googleusercontent.com/a-/AOh14Gg5Zyp_bzksR5YWaZRwn4VACXUUvYtqWkv2YE_k6g=s64",
      "userId": "13042916198969597424"
     },
     "user_tz": -60
    },
    "id": "HP3qyDCq1__v",
    "outputId": "fd3c663d-817b-479b-e909-cb358b1928ec"
   },
   "outputs": [],
   "source": []
  },
  {
   "cell_type": "markdown",
   "metadata": {
    "colab_type": "text",
    "id": "YeANNJv-1__0"
   },
   "source": [
    "2. Produce a plot of the function $y=x^2-3x+2$ over the domain $x\\in [0,10]$."
   ]
  },
  {
   "cell_type": "code",
   "execution_count": null,
   "metadata": {
    "colab": {
     "base_uri": "https://localhost:8080/",
     "height": 288
    },
    "colab_type": "code",
    "executionInfo": {
     "elapsed": 2437,
     "status": "ok",
     "timestamp": 1587980300748,
     "user": {
      "displayName": "Jon Shiach",
      "photoUrl": "https://lh3.googleusercontent.com/a-/AOh14Gg5Zyp_bzksR5YWaZRwn4VACXUUvYtqWkv2YE_k6g=s64",
      "userId": "13042916198969597424"
     },
     "user_tz": -60
    },
    "id": "5-aaVflL1__0",
    "outputId": "13be9bc9-77ef-40d5-8288-905f618d3375"
   },
   "outputs": [],
   "source": []
  },
  {
   "cell_type": "markdown",
   "metadata": {
    "colab_type": "text",
    "id": "cSoG53DL1__2"
   },
   "source": [
    "3. Produce a plot of the function $s=2t^3 + 3t^2 - 8t + 6$ over the domain $t\\in [-4,4]$ using a green line. Scale the $s$-axis so that it is in the range $[-50,50]$."
   ]
  },
  {
   "cell_type": "code",
   "execution_count": null,
   "metadata": {
    "colab": {
     "base_uri": "https://localhost:8080/",
     "height": 282
    },
    "colab_type": "code",
    "executionInfo": {
     "elapsed": 514,
     "status": "ok",
     "timestamp": 1587980324445,
     "user": {
      "displayName": "Jon Shiach",
      "photoUrl": "https://lh3.googleusercontent.com/a-/AOh14Gg5Zyp_bzksR5YWaZRwn4VACXUUvYtqWkv2YE_k6g=s64",
      "userId": "13042916198969597424"
     },
     "user_tz": -60
    },
    "id": "-Mq-9auu1__5",
    "outputId": "14a2b680-e98d-4d9a-db6d-26d96ba98650"
   },
   "outputs": [],
   "source": []
  },
  {
   "cell_type": "markdown",
   "metadata": {
    "colab_type": "text",
    "id": "7Le9Rprt1__-"
   },
   "source": [
    "---\n",
    "## Multiple plots on the same axes\n",
    "To include multiple plots on the same axis simply add another `plot` command.\n",
    "\n",
    "```\n",
    "plt.plot(x1, y1) # first plot\n",
    "plt.plot(x2, y2) # second plot\n",
    "```"
   ]
  },
  {
   "cell_type": "markdown",
   "metadata": {
    "colab_type": "text",
    "id": "FE62odSO1___"
   },
   "source": [
    "#### Example 6\n",
    "The commands below plots the three functions $y=x^2$, $y=x^3$ and $y=x^4$ over the domain $x\\in[-2,2]$ on the same set of axes. Enter them into the code cell below and execute it to see the result. \n",
    "\n",
    "```Python\n",
    "# Generate co-ordinate arrays\n",
    "x = np.linspace(-2, 2, 100)\n",
    "y1 = x ** 2     # first function\n",
    "y2 = x ** 3     # second function\n",
    "y3 = x ** 4     # third function\n",
    "\n",
    "# Plot functions\n",
    "fig, ax = plt.subplots()\n",
    "plt.plot(x, y1, '-r') # first plot\n",
    "plt.plot(x, y2, '-b') # second plot\n",
    "plt.plot(x, y3, '-k') # third plot\n",
    "\n",
    "plt.xlabel('x', fontsize=12)\n",
    "plt.ylabel('y', fontsize=12)\n",
    "\n",
    "plt.show()\n",
    "```"
   ]
  },
  {
   "cell_type": "code",
   "execution_count": null,
   "metadata": {
    "colab": {
     "base_uri": "https://localhost:8080/",
     "height": 282
    },
    "colab_type": "code",
    "executionInfo": {
     "elapsed": 609,
     "status": "ok",
     "timestamp": 1587980307630,
     "user": {
      "displayName": "Jon Shiach",
      "photoUrl": "https://lh3.googleusercontent.com/a-/AOh14Gg5Zyp_bzksR5YWaZRwn4VACXUUvYtqWkv2YE_k6g=s64",
      "userId": "13042916198969597424"
     },
     "user_tz": -60
    },
    "id": "wR6eWTgP1___",
    "outputId": "1c136fa2-582c-4a5e-a90b-563eb3f5b1be"
   },
   "outputs": [],
   "source": []
  },
  {
   "cell_type": "markdown",
   "metadata": {
    "colab_type": "text",
    "id": "ooH4bESC2AAC"
   },
   "source": [
    "## Adding a legend to a plot\n",
    "A legend can be added to a plot using the `legend` command ([pyplot.legend help page](https://matplotlib.org/3.2.1/api/_as_gen/matplotlib.pyplot.legend.html)) but first we need to add a label to each `plot` command.\n",
    "\n",
    "```Python\n",
    "plt.plot(x, y1, label='1st plot label')\n",
    "plt.plot(x, y2, label='2nd plot label')\n",
    "```\n",
    "\n",
    "Once the individual plots have labels associated with them we can add a legend using\n",
    "```Python\n",
    "plt.legend(fontsize=size, loc=location)\n",
    "```\n",
    "\n",
    "Where `fontsize` and `loc` are optional arguments. `location` is a character string from one of `'uppper left'`, `'upper center`, `upper right'`, `'left'`, `'center'`, `'right'`, `'lower left'`, `'lower center'` and `'lower right'`"
   ]
  },
  {
   "cell_type": "markdown",
   "metadata": {
    "colab_type": "text",
    "id": "MMV_qCCD2AAC"
   },
   "source": [
    "#### Example 7\n",
    "The commands below add a legend to the plot from [example 6](#Example-6). Enter them into the code cell below and execute it to see the result.\n",
    "\n",
    "```Python\n",
    "# Plot functions\n",
    "fig, ax = plt.subplots()\n",
    "plt.plot(x, y1, '-r', label='y = x^2') # first plot\n",
    "plt.plot(x, y2, '-b', label='y = x^3') # second plot\n",
    "plt.plot(x, y3, '-k', label='y = x^4') # third plot\n",
    "\n",
    "# Configure axes\n",
    "plt.xlabel('x', fontsize=12)\n",
    "plt.ylabel('y', fontsize=12)\n",
    "plt.legend()\n",
    "\n",
    "plt.show()\n",
    "```"
   ]
  },
  {
   "cell_type": "code",
   "execution_count": null,
   "metadata": {
    "colab": {
     "base_uri": "https://localhost:8080/",
     "height": 282
    },
    "colab_type": "code",
    "executionInfo": {
     "elapsed": 2768,
     "status": "ok",
     "timestamp": 1587980301136,
     "user": {
      "displayName": "Jon Shiach",
      "photoUrl": "https://lh3.googleusercontent.com/a-/AOh14Gg5Zyp_bzksR5YWaZRwn4VACXUUvYtqWkv2YE_k6g=s64",
      "userId": "13042916198969597424"
     },
     "user_tz": -60
    },
    "id": "2ZtxgLFI2AAC",
    "outputId": "4b824c82-54bd-434d-cafc-deafc30322a2",
    "scrolled": true
   },
   "outputs": [],
   "source": []
  },
  {
   "cell_type": "markdown",
   "metadata": {},
   "source": [
    "Note that in this case the location of the legend in the upper right hand corner overlaps with part of the plot and is not the best location to put the legend."
   ]
  },
  {
   "cell_type": "markdown",
   "metadata": {
    "colab_type": "text",
    "id": "ON2Rb_we2AAH"
   },
   "source": [
    "---\n",
    "## Exercise 2 - Multiple plots on the same axis\n",
    "4. Reproduce the plot below of $y=\\sin(x)$ and $y=\\cos(x)$ over the domain $x\\in[-2\\pi, 2\\pi]$ on the same set of axes.\n",
    "\n",
    "<img src=\"data:image/png;base64,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\" width=\"400\" />"
   ]
  },
  {
   "cell_type": "code",
   "execution_count": null,
   "metadata": {
    "colab": {
     "base_uri": "https://localhost:8080/",
     "height": 286
    },
    "colab_type": "code",
    "executionInfo": {
     "elapsed": 590,
     "status": "ok",
     "timestamp": 1587980338584,
     "user": {
      "displayName": "Jon Shiach",
      "photoUrl": "https://lh3.googleusercontent.com/a-/AOh14Gg5Zyp_bzksR5YWaZRwn4VACXUUvYtqWkv2YE_k6g=s64",
      "userId": "13042916198969597424"
     },
     "user_tz": -60
    },
    "id": "LRavRf8w2AAI",
    "outputId": "9ffb3352-b560-4f4e-f494-04c733e6b14a"
   },
   "outputs": [],
   "source": []
  },
  {
   "cell_type": "markdown",
   "metadata": {
    "colab_type": "text",
    "id": "9gj-YgwY2AAL"
   },
   "source": [
    "5. The points on a circle centred at $(c_x,c_y)$ with radius $r$ can be calculated using $(x,y) = (c_x,c_y) + r(\\cos(\\theta), \\sin(\\theta))$ for $\\theta\\in [0,2\\pi]$. Plot four circles centred at $(5, 5)$ with radii $r=1,2,3,4$. Use the command `ax.set_aspect('equal')` command to display the circles in the correct aspect ratio (i.e., they look like circles and not ellipses)."
   ]
  },
  {
   "cell_type": "code",
   "execution_count": null,
   "metadata": {
    "colab": {
     "base_uri": "https://localhost:8080/",
     "height": 286
    },
    "colab_type": "code",
    "executionInfo": {
     "elapsed": 532,
     "status": "ok",
     "timestamp": 1587980344805,
     "user": {
      "displayName": "Jon Shiach",
      "photoUrl": "https://lh3.googleusercontent.com/a-/AOh14Gg5Zyp_bzksR5YWaZRwn4VACXUUvYtqWkv2YE_k6g=s64",
      "userId": "13042916198969597424"
     },
     "user_tz": -60
    },
    "id": "MckSNX_J2AAL",
    "outputId": "03b70473-9501-49cd-b519-53e1d7946f38"
   },
   "outputs": [],
   "source": []
  },
  {
   "cell_type": "markdown",
   "metadata": {
    "colab_type": "text",
    "id": "xA8SMUNl2AAN"
   },
   "source": [
    "---\n",
    "## Scatter plots\n",
    "Scatter plots can be produced using the `scatter` command ([pyplot.scatter help page](https://matplotlib.org/stable/api/_as_gen/matplotlib.pyplot.scatter.html))\n",
    "\n",
    "```\n",
    "plt.scatter(x, y, color=[colour], marker=[marker style])\n",
    "```\n",
    "\n",
    "Where `x` and `y` are one-dimensional co-ordinate arrays and `[colour]` and `[marker style]`  are characters ([see Plot Styles section](#plot_styles))"
   ]
  },
  {
   "cell_type": "markdown",
   "metadata": {
    "colab_type": "text",
    "id": "klHemT1Q2AAN"
   },
   "source": [
    "#### Example 8\n",
    "The following commands produce a scatter plot of 100 random points with co-ordinates in the range $x,y\\in[0, 1]$. Enter them into the code cell below and execute it to see the result.\n",
    "\n",
    "```Python\n",
    "# Generate co-ordinate arrays\n",
    "x = np.random.rand(100, 1)\n",
    "y = np.random.rand(100, 1)\n",
    "\n",
    "# Plot scatterplot\n",
    "fig, ax = plt.subplots()\n",
    "plt.scatter(x, y, color='r', marker='o')\n",
    "\n",
    "plt.xlim(0, 1)\n",
    "plt.ylim(0, 1)\n",
    "plt.xlabel('x', fontsize=12)\n",
    "plt.ylabel('y', fontsize=12)\n",
    "\n",
    "plt.show()\n",
    "```\n"
   ]
  },
  {
   "cell_type": "code",
   "execution_count": null,
   "metadata": {
    "colab": {
     "base_uri": "https://localhost:8080/",
     "height": 288
    },
    "colab_type": "code",
    "executionInfo": {
     "elapsed": 3428,
     "status": "ok",
     "timestamp": 1587980301908,
     "user": {
      "displayName": "Jon Shiach",
      "photoUrl": "https://lh3.googleusercontent.com/a-/AOh14Gg5Zyp_bzksR5YWaZRwn4VACXUUvYtqWkv2YE_k6g=s64",
      "userId": "13042916198969597424"
     },
     "user_tz": -60
    },
    "id": "PC7BBaBB2AAO",
    "outputId": "dec8340d-d375-41d7-9f2e-1cc535bf5d07"
   },
   "outputs": [],
   "source": []
  },
  {
   "cell_type": "markdown",
   "metadata": {
    "colab_type": "text",
    "id": "5Z_urgrY2AAQ"
   },
   "source": [
    "---\n",
    "## Exercise 3 - Scatter plots\n",
    "6. Reproduce the scatter plot shown below using the values of `x` and `y` provided.\n",
    "\n",
    "<img src=\"data:image/png;base64,iVBORw0KGgoAAAANSUhEUgAAAbAAAAEgCAYAAADVKCZpAAAAOXRFWHRTb2Z0d2FyZQBNYXRwbG90bGliIHZlcnNpb24zLjMuNCwgaHR0cHM6Ly9tYXRwbG90bGliLm9yZy8QVMy6AAAACXBIWXMAAAsTAAALEwEAmpwYAAAS1ElEQVR4nO3db4xd913n8feHiSNN/8BUxFR4EotQBafRpsXtNFQrygYqmCRPbKoKJa2IiCqsLE2FVGEl5gGs1AcFeXcFLCmWCVHEE/IAjDEo7YjVAkEqYePITRwnmsqbisRjUBvKFNGOWtv57oMZZ8bTGftOPb7n/O68X5KlueeeXH/9kzNv33PPnJOqQpKk1nxf1wNIkvS9MGCSpCYZMElSkwyYJKlJBkyS1CQDJklqkgGTJDXJgEmSmmTAJElNMmCSpCYZMElSkwyYJKlJBkyS1CQDJklqkgGTJDXJgEmSmmTAJElNMmCSpCYZMElSkwyYJKlJBkyS1CQDJklqkgGTJDXJgEmSmmTAJElNMmCSpCYZMElSkwyYJKlJBkyS1CQDJklqUucBS/J4kq8meXGd55Pk95KcTvJCkvcNe0ZJUv90HjDgCeCuyzx/N3DL0q99wB8MYSZJUs91HrCqehr4+mV22QP8cS16BphI8sPDmU6S1FedB2wAk8BrKx6fWdomSdrCrut6gAFkjW215o7JPhYPM/LWt771/bfeeuu1nEuSRs5zzz33elVt73qOQbQQsDPATSse3wicXWvHqjoMHAaYmpqq48ePX/vpJGmEJPmnrmcYVAuHEI8B9y+djfhB4BtV9c9dDyVJ6lbn78CS/AlwJ3BDkjPAbwLbAKrqEPAUcA9wGvgW8EA3k0qS+qTzgFXVfVd4voBPDmkcSVIjWjiEKEnSdzFgkqQmGTBJUpMMmCSpSQZMktQkAyZJapIBkyQ1yYBJkppkwCRJTTJgkqQmGTBJUpMMmCSpSQZMktQkAyZJapIBkyQ1yYBJkppkwCRJTTJgkqQmGTBJUpMMmCSpSQZMktQkAyZJapIBkyQ1yYBJkppkwCRJTTJgkqQmGTBJUpMMmCSpSQZMktQkAyZJapIBkyQ1yYBJkppkwCRJTTJgkqQm9SJgSe5KMpvkdJJH1nj+B5L8ZZLnk5xK8kAXc0qS+qPzgCUZAx4F7gZuA+5Lctuq3T4JvFRV7wXuBP5HkuuHOqgkqVc6DxhwB3C6ql6pqu8ATwJ7Vu1TwNuTBHgb8HXg/HDHlCT1SR8CNgm8tuLxmaVtK/0+8G7gLHAS+NWqemM440mS+ui6rgcAssa2WvV4GvgS8DPAu4C/TvL3VfXvl7xQsg/YB7Bz587Nn1TSlnT0xBwHZ2Y5O7/Ajolx9k/vYu/u1f/O1rD14R3YGeCmFY9vZPGd1koPAEdq0WngK8Ctq1+oqg5X1VRVTW3fvv2aDSxp6zh6Yo4DR04yN79AAXPzCxw4cpKjJ+a6Hm3L60PAngVuSXLz0okZ9wLHVu3zKvBhgCTvBHYBrwx1Sklb0sGZWRbOXbhk28K5Cxycme1oIl3U+SHEqjqf5CFgBhgDHq+qU0keXHr+EPAZ4IkkJ1k85PhwVb3e2dCStoyz8wsb2q7h6TxgAFX1FPDUqm2HVnx9Fvi5Yc8lSTsmxplbI1Y7JsY7mEYr9eEQoiT11v7pXYxvG7tk2/i2MfZP7+poIl3Ui3dgktRXF8829CzE/jFgknQFe3dPGqwe8hCiJKlJBkyS1CQDJklqkgGTJDXJgEmSmmTAJElNMmCSpCYZMElSkwyYJKlJBkyS1CQDJklqkgGTJDXJgEmSmmTAJElNMmCSpCYZMElSkwyYJKlJBkyS1CQDJklqkgGTJDXJgEmSmmTAJElNMmCSpCYZMElSkwyYJKlJBkyS1CQDJklqkgGTJDXJgEmSmmTAJElNMmCSpCYZMElSk3oRsCR3JZlNcjrJI+vsc2eSLyU5leTvhj2jJKlfrut6gCRjwKPAzwJngGeTHKuql1bsMwF8Drirql5N8kOdDCtJ6o0+vAO7AzhdVa9U1XeAJ4E9q/b5GHCkql4FqKqvDnlGSVLP9CFgk8BrKx6fWdq20o8B70jyt0meS3L/0KaTJPVS54cQgayxrVY9vg54P/BhYBz4hyTPVNWXL3mhZB+wD2Dnzp3XYFRJUl/04R3YGeCmFY9vBM6usc8XquqbVfU68DTw3tUvVFWHq2qqqqa2b99+zQaWJHWvDwF7Frglyc1JrgfuBY6t2ucvgA8luS7JW4CfAF4e8pySpB7p/BBiVZ1P8hAwA4wBj1fVqSQPLj1/qKpeTvIF4AXgDeCxqnqxu6klSV1L1eqPm0bD1NRUHT9+vOsxJKkpSZ6rqqmu5xhEHw4hSpK0YQZMktQkAyZJalLnJ3FIUpeOnpjj4MwsZ+cX2DExzv7pXezdvfpaCuojAyZpyzp6Yo4DR06ycO4CAHPzCxw4chLAiDXAQ4iStqyDM7NvxuuihXMXODgz29FE2ggDJmnLOju/sKHt6hcDJmnL2jExvqHt6hcDJmnL2j+9i/FtY5dsG982xv7pXR1NpI3wJA5JW9bFEzU8C7FNBkzSlrZ396TBapSHECVJTTJgkqQmGTBJUpOuOmBJ/meSH9+EWSRJGthmvAPbBswkeTHJw0lu3ITXlCTpsq46YFX1KWAH8Ajw48DLSf53kvuTvO1qX1+SpLVsymdgVXWhqv6qqu4DPghsB54A/iXJY0k8R1WStKk2JWBJvj/JJ5L8DfA08I/Ah4B3A/8BfH4zfh9Jki666h9kTvKnwDSL4ToEHK2qb694/tPAN67295EkaaXNuBLHM8BDVfUvaz1ZVW8keecm/D6SJL3pqgNWVf99gH2+dbW/jyRJK/mDzJKkJhkwSVKTDJgkqUkGTJLUJAMmSWqSAZMkNck7Mkv6nh09McfBmVnOzi+wY2Kc/dO7vLuxhsaASfoug4Tp6Ik5Dhw5ycK5CwDMzS9w4MhJACOmofAQoqRLXAzT3PwCxXKYjp6Yu2S/gzOzb8brooVzFzg4MzvEabWVGTBJlxg0TGfnF9b879fbLm02AybpEoOGacfE+Jr7rbdd2mwGTNIlBg3T/uldjG8bu2Tb+LYx9k/vumazSSv1ImBJ7koym+R0kkcus98HklxI8tFhzidtJYOGae/uST77kduZnBgnwOTEOJ/9yO2ewKGh6fwsxCRjwKPAzwJngGeTHKuql9bY77eBmeFPKW0dFwM0yOnxe3dPGix1pvOAAXcAp6vqFYAkTwJ7gJdW7fcp4M+ADwx3PGnrMUxqQR8OIU4Cr614fGZp25uSTAI/z+IdnyVJ6kXAssa2WvX4d4CHq+rCGvsuv1CyL8nxJMe/9rWvbdZ8kqQe6sMhxDPATSse3wicXbXPFPBkEoAbgHuSnK+qoyt3qqrDwGGAqamp1RGUJI2QPgTsWeCWJDcDc8C9wMdW7lBVN1/8OskTwF+tjpckaWvpPGBVdT7JQyyeXTgGPF5Vp5I8uPS8n3tJkr5L5wEDqKqngKdWbVszXFX1S8OYSZLUb304iUOSpA0zYJKkJhkwSVKTDJgkqUkGTJLUJAMmSWqSAZMkNcmASZKaZMAkSU0yYJKkJhkwSVKTDJgkqUkGTJLUpF5cjV7SoqMn5jg4M8vZ+QV2TIyzf3oXe3dPdj2W1EsGTOqJoyfmOHDkJAvnLgAwN7/AgSMnAYyYtAYPIUo9cXBm9s14XbRw7gIHZ2Y7mkjqNwMm9cTZ+YUNbZe2OgMm9cSOifENbZe2OgMm9cT+6V2Mbxu7ZNv4tjH2T+/qaCKp3zyJQ+qJiydqeBaiNBgDJvXI3t2TBksakIcQJUlNMmCSpCYZMElSkwyYJKlJBkyS1CQDJklqkqfRa0vwKu/S6DFgGnmXu8o7+IPDUqsMmEbeeld5/2/HTvHt8294+xKpUX4GppG33tXc5xfOefsSqWEGTCNvo1dz9/YlUhsMmEbeeld5f8dbtq25v7cvkdrgZ2Aaeetd5R245OQO8PYlUksMmLaEy13l3bMQpTb1ImBJ7gJ+FxgDHquq31r1/MeBh5ce/gfwX6vq+eFOqVHk7UukdnX+GViSMeBR4G7gNuC+JLet2u0rwH+pqvcAnwEOD3dKSVLfdB4w4A7gdFW9UlXfAZ4E9qzcoaq+WFX/tvTwGeDGIc8oSeqZPgRsEnhtxeMzS9vW8wng89d0IklS7/XhM7Cssa3W3DH5aRYD9pPrPL8P2Aewc+fOzZpPktRDfXgHdga4acXjG4Gzq3dK8h7gMWBPVf3rWi9UVYeraqqqprZv335NhpUk9UMfAvYscEuSm5NcD9wLHFu5Q5KdwBHgF6vqyx3MKEnqmc4PIVbV+SQPATMsnkb/eFWdSvLg0vOHgN8AfhD4XBKA81U11dXMkqTupWrNj5uaNzU1VcePH+96DHXIe4BJG5fkuVbeIHT+Dky6Fi53DzAjJo2GPnwGJm269e4B5q1SpNFhwDSS1rslirdKkUaHAdNIWu+WKN4qRRodBkwjab17gHmrFGl0eBKHRtJ69wDzBA5pdBgwjSxvlSKNNg8hSpKaZMAkSU0yYJKkJhkwSVKTDJgkqUkGTJLUJAMmSWqSAZMkNcmASZKaZMAkSU0yYJKkJhkwSVKTvJhvo46emPNK65K2NAN2BX0MxdETcxw4cpKFcxcAmJtf4MCRkwCdzyZJw+IhxMu4GIq5+QWK5VAcPTHX6VwHZ2bfjNdFC+cucHBmtqOJJGn4DNhl9DUUZ+cXNrRdkkaRAbuMvoZix8T4hrZL0igyYJfR11Dsn97F+LaxS7aNbxtj//SujiaSpOEzYJfR11Ds3T3JZz9yO5MT4wSYnBjnsx+53RM4JG0pnoV4GReD0LezEGFxtj7MIUldMWBXYCgkqZ88hChJapIBkyQ1yYBJkppkwCRJTTJgkqQmGTBJUpN6EbAkdyWZTXI6ySNrPJ8kv7f0/AtJ3tfFnJKk/ug8YEnGgEeBu4HbgPuS3LZqt7uBW5Z+7QP+YKhDSpJ6p/OAAXcAp6vqlar6DvAksGfVPnuAP65FzwATSX542INKkvqjDwGbBF5b8fjM0raN7iNJ2kL6cCmprLGtvod9SLKPxUOMAN9O8uJVzjYqbgBe73qInnAtlrkWy1yLZc3c1qIPATsD3LTi8Y3A2e9hH6rqMHAYIMnxqpra3FHb5Foscy2WuRbLXItlSY53PcOg+nAI8VngliQ3J7keuBc4tmqfY8D9S2cjfhD4RlX987AHlST1R+fvwKrqfJKHgBlgDHi8qk4leXDp+UPAU8A9wGngW8ADXc0rSeqHzgMGUFVPsRipldsOrfi6gE9u8GUPb8Joo8K1WOZaLHMtlrkWy5pZiyy2QZKktvThMzBJkjas+YB5GaplA6zFx5fW4IUkX0zy3i7mHIYrrcWK/T6Q5EKSjw5zvmEaZC2S3JnkS0lOJfm7Yc84DAP8//EDSf4yyfNL6zCyn7UneTzJV9f7UaNmvm9WVbO/WDzp4/8BPwpcDzwP3LZqn3uAz7P4s2QfBP6x67k7XIv/DLxj6eu7t/JarNjv/7D4+etHu567w78XE8BLwM6lxz/U9dwdrcOvA7+99PV24OvA9V3Pfo3W46eA9wEvrvN8E983W38H5mWoll1xLarqi1X1b0sPn2Hx5+lG0SB/LwA+BfwZ8NVhDjdkg6zFx4AjVfUqQFWN4noMsg4FvD1JgLexGLDzwx1zOKrqaRb/fOtp4vtm6wHzMlTLNvrn/ASL/8IaRVdciySTwM8Dhxhtg/y9+DHgHUn+NslzSe4f2nTDM8g6/D7wbhYvknAS+NWqemM44/VOE983e3Ea/VXYtMtQjYCB/5xJfprFgP3kNZ2oO4Osxe8AD1fVhcV/cI+sQdbiOuD9wIeBceAfkjxTVV++1sMN0SDrMA18CfgZ4F3AXyf5+6r692s8Wx818X2z9YBt2mWoRsBAf84k7wEeA+6uqn8d0mzDNshaTAFPLsXrBuCeJOer6uhQJhyeQf8feb2qvgl8M8nTwHuBUQrYIOvwAPBbtfgh0OkkXwFuBf7vcEbslSa+b7Z+CNHLUC274lok2QkcAX5xxP51vdoV16Kqbq6qH6mqHwH+FPiVEYwXDPb/yF8AH0pyXZK3AD8BvDzkOa+1QdbhVRbfhZLknSxe1PaVoU7ZH01832z6HVh5Gao3DbgWvwH8IPC5pXce52sEL2A64FpsCYOsRVW9nOQLwAvAG8BjVTVSd3IY8O/EZ4Ankpxk8RDaw1U1kleoT/InwJ3ADUnOAL8JbIO2vm96JQ5JUpNaP4QoSdqiDJgkqUkGTJLUJAMmSWqSAZMkNcmASZKaZMAkSU0yYJKkJhkwaQiSvCvJ1y/eGDDJjiSvJ7mz28mkdnklDmlIkvwy8GkWr/z+58DJqvq1bqeS2mXApCFKcgy4mcVbU3ygqr7d8UhSszyEKA3XHwL/Cfhfxku6Or4Dk4YkyduA54G/Ae4Gbq+qy93WXdJlGDBpSJL8EfD2qvqFJIeBiar6ha7nklrlIURpCJLsAe4CHlza9GngfUk+3t1UUtt8ByZJapLvwCRJTTJgkqQmGTBJUpMMmCSpSf8fJx9jsAqbz/sAAAAASUVORK5CYII=\n",
    "          \" width=\"400\" />"
   ]
  },
  {
   "cell_type": "code",
   "execution_count": null,
   "metadata": {
    "colab": {
     "base_uri": "https://localhost:8080/",
     "height": 288
    },
    "colab_type": "code",
    "executionInfo": {
     "elapsed": 3419,
     "status": "ok",
     "timestamp": 1587980301909,
     "user": {
      "displayName": "Jon Shiach",
      "photoUrl": "https://lh3.googleusercontent.com/a-/AOh14Gg5Zyp_bzksR5YWaZRwn4VACXUUvYtqWkv2YE_k6g=s64",
      "userId": "13042916198969597424"
     },
     "user_tz": -60
    },
    "id": "pnL8KJoT2AAQ",
    "outputId": "dc3a9e0e-e50b-4991-f8d0-7bfc3ea98422"
   },
   "outputs": [],
   "source": []
  },
  {
   "cell_type": "markdown",
   "metadata": {},
   "source": [
    "7. We can calculate a line of bets fit for the data from question 6 using a linear regression model $y=mx+c$ where $m$ is the slope of the line and $c$ is the $y$-intercept. We can rewrite the linear model as $\\mathbf{y}=A\\mathbf{p}$ where $\\mathbf{y} = (y_1, y_2, \\ldots, y_n)^T$, $\\mathbf{p} = (m, c)^T$ and\n",
    "<br><br>\n",
    "\\begin{align*}\n",
    "A= \\begin{pmatrix} x_1 & 1 \\\\ x_2 & 1 \\\\ \\vdots & \\vdots \\\\ x_n & 1 \\end{pmatrix}.\n",
    "\\end{align*}\n",
    "\n",
    "We can then solve for $m$ and $c$ using the Numpy command `np.linalg.lstsq` which calculates the [least squares](https://en.wikipedia.org/wiki/Least_squares) solution which minimises the difference between the points $(x_i,y_i)$ and the line $y=mx+c$.\n",
    "```Python\n",
    "m, c = np.linalg.lstsq(A, y, rcond=None)[0]\n",
    "```\n",
    "Define the array `A`, calculate the line of best fit for the data from question 6 and add it to your scatter plot."
   ]
  },
  {
   "cell_type": "code",
   "execution_count": null,
   "metadata": {
    "colab": {
     "base_uri": "https://localhost:8080/",
     "height": 305
    },
    "colab_type": "code",
    "executionInfo": {
     "elapsed": 3740,
     "status": "ok",
     "timestamp": 1587980302239,
     "user": {
      "displayName": "Jon Shiach",
      "photoUrl": "https://lh3.googleusercontent.com/a-/AOh14Gg5Zyp_bzksR5YWaZRwn4VACXUUvYtqWkv2YE_k6g=s64",
      "userId": "13042916198969597424"
     },
     "user_tz": -60
    },
    "id": "JvGUwQ3X2AAT",
    "outputId": "6c92f9f7-77d7-47ad-fc9c-de20c89fec15"
   },
   "outputs": [],
   "source": []
  },
  {
   "cell_type": "markdown",
   "metadata": {
    "colab_type": "text",
    "id": "Kym3w7TJ2AAX"
   },
   "source": [
    "---\n",
    "## 3D plots\n",
    "\n",
    "To create a 3D plot we first need to create a 3D axis using the `Axes3D` toolkit which is done using the following commands.\n",
    "\n",
    "```Python\n",
    "from mpl_toolkits.mplot3d import Axes3D\n",
    "\n",
    "fig = plt.figure()\n",
    "ax = plt.axes(projection='3d')\n",
    "```"
   ]
  },
  {
   "cell_type": "markdown",
   "metadata": {
    "colab_type": "text",
    "id": "BWDsOrdS2AAX"
   },
   "source": [
    "---\n",
    "### Surface plot\n",
    "3D surface plots can be generated using the `ax.plot_surface` command ([Axes3D.plot_surface help page](https://matplotlib.org/mpl_toolkits/mplot3d/tutorial.html#surface-plots)).\n",
    "\n",
    "```\n",
    "ax.plot_surface(X, Y, Z, cmap='jet', antialiased=False, edgecolor='k', linewidth=0.1)\n",
    "```\n",
    "\n",
    "where `X`, `Y` and `Z` are two-dimensional co-ordinate arrays. The optional arguments are: \n",
    "\n",
    "- `cmap='jet'` applies the `jet` colormap\n",
    "- `antialiased=False` ensures the surface is opaque\n",
    "-  `edgecolor='k'` draws the edges of the polygons that make up the surface\n",
    "- `linewidth=0.1` reduces the width of the edges\n",
    "\n",
    "To produce a surface plot of the bivariate function $z=f(x,y)$ we require $x$ and $y$ co-ordinates in the domain. The `np.meshgrid` command is useful for generating these ([numpy.meshgrid help page](https://numpy.org/doc/stable/reference/generated/numpy.meshgrid.html?highlight=meshgrid#numpy.meshgrid)).\n",
    "\n",
    "```\n",
    "X, Y = np.meshgrid(x co-ordinate array, y co-ordinate array)\n",
    "```"
   ]
  },
  {
   "cell_type": "markdown",
   "metadata": {},
   "source": [
    "#### Example 9\n",
    "The Python commands below generates two $4\\times 6$ element matrixes `X` and `Y` containing the co-ordinates of points in the domain $\\{(x, y):x, y \\in \\mathbb{R}, 0\\leq x \\leq 5, 0 \\leq y \\leq 6\\}$ using an increment of 1 in the $x$ direction and 2 in the $y$ direction. Enter it into the code cell below and execute it to see the result.\n",
    "\n",
    "```Python\n",
    "x = np.arange(0, 6, 1)\n",
    "y = np.arange(0, 7, 2)\n",
    "X, Y = np.meshgrid(x, y)\n",
    "\n",
    "print(X, end=\"\\n\\n\")\n",
    "print(Y)\n",
    "```"
   ]
  },
  {
   "cell_type": "code",
   "execution_count": null,
   "metadata": {},
   "outputs": [],
   "source": []
  },
  {
   "cell_type": "markdown",
   "metadata": {},
   "source": [
    "#### Example 10\n",
    "The Python code below produces a surface plot of the two-dimensional surface $z=\\sin(x) + \\cos(y)$ over the domain $x,y\\in [0, 4\\pi]$. Enter it into the code cell below and execute it to see the result.\n",
    "\n",
    "```Python\n",
    "from mpl_toolkits.mplot3d import Axes3D\n",
    "\n",
    "# Generate co-ordinate arrays\n",
    "x = np.linspace(0, 4 * np.pi, 50)\n",
    "y = np.linspace(0, 4 * np.pi, 50)\n",
    "X, Y = np.meshgrid(x, y)\n",
    "Z = np.sin(X) + np.cos(Y)\n",
    "\n",
    "# Plot surface\n",
    "fig = plt.figure(figsize=(12, 8))\n",
    "ax = plt.axes(projection='3d')\n",
    "ax.plot_surface(X, Y, Z, cmap='jet', antialiased=False, edgecolor='k', linewidth=0.1)\n",
    "\n",
    "plt.xlim(0, 4 * np.pi)\n",
    "plt.ylim(0, 4 * np.pi)\n",
    "ax.set_zlim(-3, 3)\n",
    "plt.xlabel('x')\n",
    "plt.ylabel('y')\n",
    "ax.set_zlabel('z')\n",
    "\n",
    "plt.show()\n",
    "```"
   ]
  },
  {
   "cell_type": "code",
   "execution_count": null,
   "metadata": {
    "colab": {},
    "colab_type": "code",
    "id": "UZRUykMK2AAX"
   },
   "outputs": [],
   "source": []
  },
  {
   "cell_type": "markdown",
   "metadata": {},
   "source": [
    "---\n",
    "### Specifying the view angle\n",
    "With 3D plots we can control the position of the viewpoint using the `view_init` command\n",
    "\n",
    "```Python\n",
    "ax.view_init(elevation, azimuth)\n",
    "```\n",
    "where `elevation` and `azimuth` are the angles (in degrees) that specify the vertical and horizontal position of the viewpoint relative to the centre of view.\n",
    "\n",
    "<img\n",
    "src=\"data:image/jpeg;base64,/9j/4AAQSkZJRgABAQAASABIAAD/4QBARXhpZgAATU0AKgAAAAgAAYdpAAQAAAABAAAAGgAAAAAAAqACAAQAAAABAAAA5KADAAQAAAABAAAA2gAAAAD/4gJASUNDX1BST0ZJTEUAAQEAAAIwQURCRQIQAABtbnRyUkdCIFhZWiAH0AAIAAsAEwAzADthY3NwQVBQTAAAAABub25lAAAAAAAAAAAAAAAAAAAAAAAA9tYAAQAAAADTLUFEQkUAAAAAAAAAAAAAAAAAAAAAAAAAAAAAAAAAAAAAAAAAAAAAAAAAAAAAAAAAAAAAAApjcHJ0AAAA/AAAADJkZXNjAAABMAAAAGt3dHB0AAABnAAAABRia3B0AAABsAAAABRyVFJDAAABxAAAAA5nVFJDAAAB1AAAAA5iVFJDAAAB5AAAAA5yWFlaAAAB9AAAABRnWFlaAAACCAAAABRiWFlaAAACHAAAABR0ZXh0AAAAAENvcHlyaWdodCAyMDAwIEFkb2JlIFN5c3RlbXMgSW5jb3Jwb3JhdGVkAAAAZGVzYwAAAAAAAAARQWRvYmUgUkdCICgxOTk4KQAAAAAAAAAAAAAAAAAAAAAAAAAAAAAAAAAAAAAAAAAAAAAAAAAAAAAAAAAAAAAAAAAAAAAAAAAAAAAAAAAAAAAAAAAAAAAAAAAAAAAAAAAAWFlaIAAAAAAAAPNRAAEAAAABFsxYWVogAAAAAAAAAAAAAAAAAAAAAGN1cnYAAAAAAAAAAQIzAABjdXJ2AAAAAAAAAAECMwAAY3VydgAAAAAAAAABAjMAAFhZWiAAAAAAAACcGAAAT6UAAAT8WFlaIAAAAAAAADSNAACgLAAAD5VYWVogAAAAAAAAJjEAABAvAAC+nP/AABEIANoA5AMBIgACEQEDEQH/xAAfAAABBQEBAQEBAQAAAAAAAAAAAQIDBAUGBwgJCgv/xAC1EAACAQMDAgQDBQUEBAAAAX0BAgMABBEFEiExQQYTUWEHInEUMoGRoQgjQrHBFVLR8CQzYnKCCQoWFxgZGiUmJygpKjQ1Njc4OTpDREVGR0hJSlNUVVZXWFlaY2RlZmdoaWpzdHV2d3h5eoOEhYaHiImKkpOUlZaXmJmaoqOkpaanqKmqsrO0tba3uLm6wsPExcbHyMnK0tPU1dbX2Nna4eLj5OXm5+jp6vHy8/T19vf4+fr/xAAfAQADAQEBAQEBAQEBAAAAAAAAAQIDBAUGBwgJCgv/xAC1EQACAQIEBAMEBwUEBAABAncAAQIDEQQFITEGEkFRB2FxEyIygQgUQpGhscEJIzNS8BVictEKFiQ04SXxFxgZGiYnKCkqNTY3ODk6Q0RFRkdISUpTVFVWV1hZWmNkZWZnaGlqc3R1dnd4eXqCg4SFhoeIiYqSk5SVlpeYmZqio6Slpqeoqaqys7S1tre4ubrCw8TFxsfIycrS09TV1tfY2dri4+Tl5ufo6ery8/T19vf4+fr/2wBDAAICAgICAgMCAgMFAwMDBQYFBQUFBggGBgYGBggKCAgICAgICgoKCgoKCgoMDAwMDAwODg4ODg8PDw8PDw8PDw//2wBDAQICAgQEBAcEBAcQCwkLEBAQEBAQEBAQEBAQEBAQEBAQEBAQEBAQEBAQEBAQEBAQEBAQEBAQEBAQEBAQEBAQEBD/3QAEAA//2gAMAwEAAhEDEQA/AP38ooooAKKKKACiiigAooooAKwtJ8SaRrd3fWOnSSNPp0hinWSGWHByQCpkVQ6HB2uuVbBwTg1u14p448B+I4fhn430jwb4pudP1nXLG4S31C8Rbn7A7xFWliji8gvIMs6l3J37QT5aKigHtdFeKfs36f4m0r4B/D/T/GGsr4h1WHRLISX4haBp0MSmIyK8sxMgiKrI5f8AeOGfChti+10AFFFFABRRRQAUUUUAFFFMd0jQu5wo6mgB9FRxSpMgkjOVNSUAFFFFABRRRQAUUUUAFFFFAH//0P38ooooAKKKKACiiigAooooAKxvEf8AyL2qf9es/wD6Aa2axvEf/Ivap/16z/8AoBoA5L4O/wDJI/BH/YD03/0ljr0avOfg7/ySPwR/2A9N/wDSWOvRqACiiigAooooAKKKY7pGhdzhR1NAA7pGhdzhR1NcrfXz3b4HEa9B/U1Qutfgv9WuNHjYiW0ihnZccbJ2kVDnuSYm47fjWTp+v6FqxQaVqNteGRZGUQzJJuWKQxSEbSchJAUY9m4PPFAHR2N41pJzzG33h/WutRldQ6HIPINcLWzpV55bfZpD8rfd9j/9egDX1HTtP1jT7rSdWtYr2xvYnguLedFkimikUq8ciMCrKykhlIIIODXlni3xLrHhzxt4Y8K+GLqK81DxG15O+n37SCIWNhFK9xPDcpG7RyG6ubOMiQyKIuIoVw7j1+vib9qvxn4n+E3xC+FXxasAreH7GXVdG1RctlhqYtZowVVSdoWzlbdkAOqLyWAoA+nf+Et8Q2d7Z2OreEr4JNnz72zltrmyt8ZxndLFdODgfctjgnkYBIy7j4w+CLW6Nnc/2pFIpwd2i6mF6Mfv/Ztv8J79cDqy57uDVLXUdGh1eyffb3UKyxt6q4BH6GvBrzw1J8SPEk+gSTy2mkad5MuouiSI1ysu4pawXCkKjHYGnIJdYmQKFMqyIAdv4L+J1x8Q7u4l8K6BcLodjfvaS6pfTQwwXUUccu+XT1haeScpOkcTrMtuFDvhzJC0J9XqG2trezt4rOziSCCBFjjjjUKiIowqqo4AA4AHSpqACiiigD//0f38ooooAKKKKACiiigAooooAKxvEf8AyL2qf9es/wD6Aa2axvEf/Ivap/16z/8AoBoA5L4O/wDJI/BH/YD03/0ljr0avOfg7/ySPwR/2A9N/wDSWOvRqACiiigAoorl/GPjHQvAmhTeIfEMzR28bLHHHGpkmuJpDtjggjX5pJZG+VEXkn2yQAHjHxjoXgTQpvEPiGZo7eNljjjjUyTXE0h2xwQRr80ksjfKiLyT7ZI+Zfg94Z+OsPjXxr47+MXiqTUNO8QSxHQNCVowmiWW+WUwS+RFFFLOvmLGZf3jFUAMjZye38P+H9d8Sa7F8RviNEseqRqw0zTAwkh0iGQYPI+WS7kXiaYcAfu4/k3NJ6fQBwVr8OPClr4ouvE8emWglnhtkQCBAySW8k0hkDerGUduNvXnjk/hR8PdW8J3mqa1rnlxTX8UUMVvG/m+SomuLydml2oHeS5u5csFXciRsVViUX2mkJCgsxwBySaAFrL1nXNG8N6Xca54gvoNM0+zXfNcXMixRRqO7O5AA+prwTxR+0HYSzzaJ8KLJfFeoRMY5b0uY9ItXHDB7kBvOdT1jgDnI2u0fWvHJvD+oeItUh8R/EXU38Tarbv5lusiCKws39bS0BZIyOgkcyTY4MmOKAPXfEP7RXirxbB/Z/wm0/8As+yYbW17VYWAYf3rKxbbJJkdJZ/LQHlUlWsP4SeAoPiz4L+LXw0+Iut6rr1lqOr2u66ubsyXUMv2GzuElg3AxRGOdVlSNIxCGHMZUspyK9U/Zg/5CXxK/wCw1af+my0oAh8Eal4p+Cnw2h+HPxDsrrUr7RmmtNL1GytnmtNWgTb9l5iDCznlaVIBDcMpabKxSTD5z9LeF9Ag8NaLDpcR3yZeaeQbv3txO5kmkAdnKhpGYqu4hBhVwoApniG2ur6TSLFNNi1Cxkvo5LxpZjEbZLZHuYZ41Ct5ri6ihXZlQAxfJ2bG6OgAooooAKKKKAP/0v38ooooAKKKKACiiigAooooAKxvEf8AyL2qf9es/wD6Aa2axvEf/Ivap/16z/8AoBoA5L4O/wDJI/BH/YD03/0ljr0avOfg7/ySPwR/2A9N/wDSWOvRqACiiuX8Y+MdC8CaFN4h8QzNHbxsscccamSa4mkO2OCCNfmklkb5UReSfbJAAeMfGOheBNCm8Q+IZmjt42WOOONTJNcTSHbHBBGvzSSyN8qIvJPtkjxzw/4f13xJrsXxG+I0Sx6pGrDTNMDCSHSIZBg8j5ZLuReJphwB+7j+Tc0h4f8AD+u+JNdi+I3xGiWPVI1YaZpgYSQ6RDIMHkfLJdyLxNMOAP3cfybmk9PoAKK4Txz8SvBvw6tIbjxRfiGe7JW1tIlae8unH8MFvGGkkPqQMKOWIGTXzT4g8dfEz4jboPMl8DeHpOPs9tKraxcIf+e1yhZLUHutuWk7ideRQB7f48+NnhTwZfP4dsUl8ReJgoYaXp+15Yw33XuZGIitkPXdKylh9xXPFfO2v/8ACafEss3xMvkTSn+7oOnO62GPS6lIWW8PqGCQn/njnmreiaBo3huxGnaFZx2dvuLlUHLu3LO7H5ndjyzMSxPJJNbFAENvb29pBHa2kSwwwqEREUKqqowAoHAAHQCpqKKACvU/2YP+Ql8Sv+w1af8ApstK8sr0n9mCXGv/ABLhP8WrWZH1Gm2tAH13RRRQAUUUUAFFFFAH/9P9/KKKKACiiigAooooAKKKKACsbxH/AMi9qn/XrP8A+gGtmsbxH/yL2qf9es//AKAaAOS+Dv8AySPwR/2A9N/9JY69Grzn4O/8kj8Ef9gPTf8A0ljre8Y+MdC8CaFN4h8QzNHbxsscccamSa4mkO2OCCNfmklkb5UReSfbJAAeMfGOheBNCm8Q+IZmjt42WOOONTJNcTSHbHBBGvzSSyN8qIvJPtkjxzw/4f13xJrsXxG+I0Sx6pGrDTNMDCSHSIZBg8j5ZLuReJphwB+7j+Tc0jND0PWde1lfiX8S1SDUYEf+zdN3h7fRrdxhiWHyvdOv+um6KMxx/JuaTznxL+0HHqMkulfB+yj8RzqSj6rMzR6PAw4O2Vfnu2H92D5M8NKhoA9+8Q+JNA8JaRPr3ifUYNK061GZLi5kWKNc8AbmIGSeAOpPA5r5j8QfGrxl4z3WXwzs28P6S/B1rUoD9qkX1s7GQArntJchcf8APFxzXBjw5catq8Xifx1qUvifW4CWhmuVC29oT2s7Vf3cHHG4BpSOHkaud+Euq+KdS8HrbeN5oLjX9JubmwvJLdSqO9tIVR8HvJHscngHdnC52gA6jRvC2maNd3Grbpb/AFe9AFzqN5Ibi8nA5AeVuQgP3Y12xr0VQOK6SiigAooooAKKKKACu5/Zsk8rxN8Q2/6jNmPz0y1FcNXX/s8EjXPiOR21i0/9NlrQB9q0U1G3orDuAadQAUUUUAFFFFAH/9T9/KKKKACiiigAooooAKKKKACsbxH/AMi9qn/XrP8A+gGtmuG+JHifRvCXgzU9U1qYxxyRNbwxopea4uJgUighjXLSSyMQqqoJJ9smgDifB3jHQvAnwG8HeIfEMzR28eiaVHHHGpkmuJpLaNY4II1+aSWRvlRF5J9skfO+s/FO2h8Wt4g8T2j+JfHVsrLp3hywkSS30CKUYzd3J/cRXUin99IxL7SUgRkDGT5Y0/WPH2u3ugab8cdUn+H76HYW+maXouJLOQJFAsUjJqDhY5JpgD5jWblwvyLKELq30No2iaP4e0+PStCs4rG0iyVjhUIuTyScdWJ5JPJPJOaAM3XLXxV8RpPtHxS1BLuyyGTQ7LdHpceDkecDiS8YdzN+7zysKGujjjjhjWGFQkaAKqqMAAcAADoBT6KACvN/Cn+ieO/G2nLws01jf4957ZYCfx+zfnz3r0ivG7hdel8UfER/CrRprA0ixisml5jF4I7p4i+eNu50z7UAetNfWS3qaa1xGLuSNplhLjzGjQqrOEzkqpZQTjAJA7irVfPmr6T8SP7YtNS0VZ55I7S8iSWZIUaCOefTWkhAMzF5GSC5MbMdocqCQm0noW034hQXts8N7c3tlcw3JlGYoHgeC4862VFcuSJ4j5Ds7MQFVyFcvQB7FUUM8FzH5tvIsqEkbkIYZUkEZHoQQfevn7S9P+Jl1c6RPr0F26aXq8dwMTxoXtZdIeJ0fa2X235O4lRw25VEYAW5plv8U4BcQiCSFFuQbEO0OAjarctMbgI2CrWBg29Wzv6S4oA96oryP4ef8J7DftD4qjuvszWhbfctC2J1upgq/u2JybcxZ4wcZJ37s+uUAFdf+zz/AMhv4kf9he0/9NlrXIVW+D/izXtC8UfES10vwZq3iOJ9Us3M9hLpqRof7NtRsIvL22fd34UjnrnIAB+glmd1rEf9kfyqzXitj8S/GgtIgPhP4mPHUXOgf/LerX/Cy/Gn/RJvE3/gToH/AMt6APYKK8f/AOFl+NP+iTeJv/AnQP8A5b1534A+PnxH8W/G3xH8Ldb+D2vaBoekC2aHxBPLaPaAzWonaK42TNGXD4VRaS3RAdDKsPzYAPqSiiigD//V/fyiiigAooooAKKKKACiiuX8Y+MdC8CaFN4h8QzNHbxsscccamSa4mkO2OCCNfmklkb5UReSfbJAAeMfGOheBNCm8Q+IZmjt42WOOONTJNcTSHbHBBGvzSSyN8qIvJPtkjxzw/4f13xJrsXxG+I0Sx6pGrDTNMDCSHSIZBg8j5ZLuReJphwB+7j+Tc0h4f8AD+u+JNdi+I3xGiWPVI1YaZpgYSQ6RDIMHkfLJdyLxNMOAP3cfybmk9PoAo6npema1YzaXrFpDf2dwu2WCeNZYnU9mRwVI9iK8D1X9m7wnDun+Hmo3vgubqIbNxNpxPobG43xIvtB5J/2q+iqKAPizVfCfxj8IZbVNDg8WWKdbrRH8q4x/eewunBH0iuJmPZawNH8beGdbv5NHtbzyNVgGZbC6R7S+i7/AD206pMo9yuPSvs3xf4r0rwVoFz4g1gsYodqxxRjfNcTyHbFBCnV5ZXIRFHUkV5D4H+B2iS+DLuz+KtlH4m1XxDqE+t3q6htvBaXd2qAw2srDciW6IkcZUggLldowAAedV5v4B/07VPGGv8A8F9rEkMR/wBiwhis2H/f6KU/jXuWrfs8X+lq03wz8V3WmgfdsNXDarZfRZHdLtPTPnuq9kPQ+LaP4b8f/CTw5ZaB408MXV1b2SfvdW0fdqdvNKxLyzSQxot3GZHLO37gouT85AzQB39FYeheJfD3ie2a78PajBqMSHa5gkVyjd1cA5Vh3VgCO4rcoAKKKKACiiigArr/ANnn/kN/Ej/sL2n/AKbLWuQrr/2ef+Q38SP+wvaf+my1oA+y7EYtIh/sirVRQLshjT+6oH5CpaACvJPiPoPi/wAQ6jpFnognh02KYSXktvqUtjI8XlTAxKIdpyZfI3OWJEfmFAHAD+t0UAMijWKNIlJIQBQWYscDjljkk+55NPoooA//1v38ooooAKKKKACiiuX8Y+MdC8CaFN4h8QzNHbxsscccamSa4mkO2OCCNfmklkb5UReSfbJAAeMfGOheBNCm8Q+IZmjt42WOOONTJNcTSHbHBBGvzSSyN8qIvJPtkj5p1Lwj8T/Feq2PxWvrqC08R6aZG03QbkiXTrW1lXa8MsqKzC8kX791HkRn92ivFv8AM7Pw/wCH9d8Sa7F8RviNEseqRqw0zTAwkh0iGQYPI+WS7kXiaYcAfu4/k3NJ6fQB5n4f+Knh/VNQj8Oa+knhnxG/H9maltilkI4JtpATFcp/tQs2P4grZUemVznirT/CWp6NLZ+NreyutKfHmR6gkb25PbcJcrXjOueD/hV4Xsb640rXL/SZLCCSb7Dp/iKa1UiOLztkcE92lrGShBBby0AILMF5AB9E15v4j+KXhnQ79vD+nGTxB4ix8ulaYBcXQJOAZjkR26Z/5aTvGnB5J4ripvBHwneW4tvEPiu91Q2hcTwXviO6aJDHjeJYFuFjO3IyHQ4yPWu5sdU+Ffw+0e5stJuNI0HT9OFw00Ns0ECRm1jEs+5Ex80cZVn4yAQT1FAGV4e8F65rGvW/jv4lNDLqdpvOm6bATJaaUJBtZ1dgDNdMp2tOVXapZI1VWcyes1wOnfEbw7qXiI6DFPGiyWNlfW9w0sfl3C3ss0SJH82S4aEgj/aAHOa76gAooooA818Y/CD4c+PLkaj4h0WJtTUbU1C2Z7S/QDoFurcxzAf7O/ae4NeNap8DviHoGZfA/iaLXrZeljryeXNj+6l/apwB0HmW8rHu/c/V9FAHwRqnibUPCJKfEjQb7wqq9budBcaaf9r7bbmSGNfTzjE3+zXTWd7Z6jax3unzx3VvMNySxMHRh6qy5BH0r7QIBBBGQa8R8Q/s9/DXWbqbVNHtJfCuqzks95okn2J3c/xSwqDbzt7zRPQB5NRU+q/C74x+Ft0mlT2PjixXojY0vUgPQZL2sze5Nsv9eFbxzpFhfR6P4rhufC2pTNtS21eE2hkb+7DK2YJz/wBcZHFAHZ12n7OSeb4h+Ikf97WbMf8AlNta4uvQv2Y4t/iX4jueiataH8f7MtRQB9hUUUUAFFFFABRRRQB//9f9/KKKKACiiuX8Y+MdC8CaFN4h8QzNHbxsscccamSa4mkO2OCCNfmklkb5UReSfbJAAeMfGOheBNCm8Q+IZmjt42WOOONTJNcTSHbHBBGvzSSyN8qIvJPtkjxzw/4f13xJrsXxG+I0Sx6pGrDTNMDCSHSIZBg8j5ZLuReJphwB+7j+Tc0h4f8AD+u+JNdi+I3xGiWPVI1YaZpgYSQ6RDIMHkfLJdyLxNMOAP3cfybmk9PoAKKKKAOQ8YeFpPFUOmwx3pshp94t2cJu83bHIgQsrI6YZw+5HU5UKcozq3jEX7Pl7H4cn8OP4lWaN9BPh6KV7AeZDZtZ/ZXIxMAXkYRvI2MsIokJwnP0tRQB4DrfwTvNb1PVtTl1uGN9XvLy8cCxJ2PdaRFpGATP/DHEHyeSTjgU27+BZvp5Dca5/o93JLLdItthnafRo9Hfy3Mp2DZGJFyGwSQcjBH0BRQB4ZqPwf1PUr2LULjXojNHFosZJsj/AMwbUv7RjxiYYVziMjkhQDkmvc6KKACiiigAooooAKKKKACqGp6Vpmt2M2l6zZw39lcLtlguI1lidfRkcFSPYir9FAHzrqv7N3hSHdP8PNSvfBc3UQWbifTifQ2VxviRfaDyT716H8Avhn4q+HsPim78XahZ6jd+INRjuY5LKKSBPJhtYbdS0cjSFGJjJKh3AGPm5wPTIImnlWJerHFdqiLGgReAowKAHUUUUAFFFFABRRRQB//Q/fyiimO6RoXc4UdTQBzXjHxjoXgTQpvEPiGZo7eNljjjjUyTXE0h2xwQRr80ksjfKiLyT7ZI8c8P+H9d8Sa7F8RviNEseqRqw0zTAwkg0iCQYPI+WS7kXiaYcAfu4/k3NJ6FrOk6NrWu2PiC9tFmvNKWRbR5CW8kyja7opO1XZflLgbtpK5wSDiL4R0aGdryNJ5ZfmOyS7uHjYsDkMjSMhBz0Kke1AGxZatpWpf8g68husrv/dSK/wAu4pn5SeNysufUEdQa0K8T+D3gHW/CQ1HVPEWxLy8htLWNFYO4it/NnkeZx8rzS3d1cuzqAGUqxVCSi+2UAFFFFABRRRQAUUUUAFFFFABRRRQAUUUUAFFFFABRRVqztmupgg+6OWPtQBr6RbbVNy45bhfp3NbdNVVRQijAAwKdQAUUUUAFFFFABRRRQB//0f35d0jQu5wo6muVvr57t8DiNeg/qadqN1LNKY2BRUPCn+ZrOoAKKKKACiiigAooooAKKKKACiiigAooooAKKKKACiiigAoopyqzsEQZJ4AoAWON5XEcYyzdBXX2dqtrEEHLHlj6moLCxW1Tc/MjdT6ewrRoAKKKKACiiigAooooAKKKKAP/0v3uvLGO7XP3ZB0P+NctNDJA5jlXBH6129Qz28VwmyVcj9RQBxNFaV3ps1vl0+eP1HUfUVm0AFFFFABRRRQAUUUUAFFFFABRRRQAUUUUAFFFaFpp01zhj8kfqe/0FAFOKKSZxHEu4mupsrBLRdx+aQ9T6ewqxb20VsmyIY9T3NT0AFFFFABRRRQAUUUUAFFFFABRRRQB/9P9/KKKKACs65023nywGxz3H9RWjRQByU+m3UHO3evqvP6VQrvKry2tvP8A61AT69D+dAHF0V0cmjRHmJyv15/wqk+j3S/cKt+OKAMmirrader1iP4EGozZ3Q/5Yv8AkaAK1FWfsd1/zxf8jUi6det0iP44FAFKitVNHum+8VX8c/yq7Ho0Q5lkLfTigDnavQafdT8hdi+rcV0sNpbQcxxgH16n86s0AZttplvBhn/eOO56flWlRRQAUUUUAFFFFABRRRQAUUUUAFFFFABRRRQB/9T9/KKKKACiiigAooooAKKKKACiiigAooooAKKKKACiiigAooooAKKKKACiiigAooooAKKKKACiiigAooooA//Z\" width=\"300\" />"
   ]
  },
  {
   "cell_type": "markdown",
   "metadata": {},
   "source": [
    "#### Example 11\n",
    "The Python commands below changes the surface plot produced in [example 10](#Example-10) so that it is viewed from the viewpoint with elevation $45^\\circ$ and azimuth $15^\\circ$. Enter it into the code cell below and execute it to see the result.\n",
    "\n",
    "```Python\n",
    "ax.view_init(45, 15)\n",
    "\n",
    "display(fig)\n",
    "```"
   ]
  },
  {
   "cell_type": "code",
   "execution_count": null,
   "metadata": {},
   "outputs": [],
   "source": []
  },
  {
   "cell_type": "markdown",
   "metadata": {},
   "source": [
    "---\n",
    "## Exercise 4 - 3D plots\n",
    "8. Reproduce the surface plot below of the function $z=\\exp(-20((x-0.5)^2 + (y-0.5)^2))$ over the domain $x, y \\in [0, 1]$.\n",
    "\n",
    "<img\n",
    "     src=\"data:image/png;base64,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\" width=500/>"
   ]
  },
  {
   "cell_type": "code",
   "execution_count": null,
   "metadata": {},
   "outputs": [],
   "source": []
  },
  {
   "cell_type": "markdown",
   "metadata": {},
   "source": [
    "---\n",
    "## Contour plots\n",
    "Contour plots show points of equal value can be produced using the `contour` command ([pyplot.contour help page](https://matplotlib.org/stable/api/_as_gen/matplotlib.pyplot.contour.html)).\n",
    "\n",
    "```Python\n",
    "plt.contour(X, Y, Z)\n",
    "```"
   ]
  },
  {
   "cell_type": "markdown",
   "metadata": {},
   "source": [
    "### Example 12\n",
    "The Python commands below produces a contour plot of the same bivariate function used in [example 10](#Example-10). Enter it into the code cell below and execute it to see the result.\n",
    "\n",
    "```Python\n",
    "# Generate co-ordinate arrays\n",
    "x = np.linspace(0, 4 * np.pi, 100)\n",
    "y = np.linspace(0, 4 * np.pi, 100)\n",
    "X, Y = np.meshgrid(x, y)\n",
    "Z = np.sin(X) + np.cos(Y)\n",
    "\n",
    "# Contour plot\n",
    "fig, ax = plt.subplots()\n",
    "plt.contour(X, Y, Z)\n",
    "\n",
    "plt.xlim(0, 4 * np.pi)\n",
    "plt.ylim(0, 4 * np.pi)\n",
    "plt.xlabel('x')\n",
    "plt.ylabel('y')\n",
    "\n",
    "plt.show()\n",
    "```"
   ]
  },
  {
   "cell_type": "code",
   "execution_count": null,
   "metadata": {},
   "outputs": [],
   "source": []
  },
  {
   "cell_type": "markdown",
   "metadata": {},
   "source": [
    "---\n",
    "## Exercise 5 - Contour plots\n",
    "9. Produce a contour plot of the function $z=(z_1-z_2)^2$ where $z_1=\\exp(-x^2-y^2)$ and $z_2=\\exp(-(x-1)^2-(y-1)^2)$ over the domain $x,y\\in[-2,3]$. "
   ]
  },
  {
   "cell_type": "code",
   "execution_count": null,
   "metadata": {},
   "outputs": [],
   "source": []
  },
  {
   "cell_type": "markdown",
   "metadata": {},
   "source": [
    "---\n",
    "## Image plots\n",
    "Image plots (also known as raster plots) are plots which consist of an array of small squares called pixels. In Python image plots can be produced using the `imshow` commands ([pyplot.imshow help page](https://matplotlib.org/stable/api/_as_gen/matplotlib.pyplot.imshow.html)).\n",
    "\n",
    "```Python\n",
    "plt.imshow(img)\n",
    "```\n",
    "\n",
    "Where `img` is a NumPy array one of the following forms:\n",
    "\n",
    "- A $m\\times n$ array of values;\n",
    "- A $m \\times n \\times 3$ array of [RGB values](https://en.wikipedia.org/wiki/RGB_color_model) either floating point values in the range $[0,1]$ or integers in the range $[0,255]$."
   ]
  },
  {
   "cell_type": "markdown",
   "metadata": {},
   "source": [
    "#### Example 13\n",
    "The following commands generate a random array of $10\\times 10$ pixels and plots them using the `imshow` command. Enter them into the code cell below and execute it.\n",
    "\n",
    "```Python\n",
    "img = np.random.rand(10, 10)\n",
    "\n",
    "imgplot = plt.imshow(img, cmap='jet')\n",
    "```"
   ]
  },
  {
   "cell_type": "markdown",
   "metadata": {},
   "source": [
    "The optional command `cmap='jet'` applies the `jet` colormap."
   ]
  },
  {
   "cell_type": "code",
   "execution_count": null,
   "metadata": {},
   "outputs": [],
   "source": []
  },
  {
   "cell_type": "markdown",
   "metadata": {},
   "source": [
    "---\n",
    "### Reading an image file into a NumPy array\n",
    "We can read in an image file into $m\\times n \\times 3$ NumPy array using the `imread` command from the `matplotlib.image` library ([image.imread help page](https://matplotlib.org/api/_as_gen/matplotlib.pyplot.imread.html)).\n",
    "\n",
    "```\n",
    "import matplotlib.image as mpimg \n",
    "img = mpimg.imread(filename)\n",
    "```\n",
    "\n",
    "Where `filename` is the name of the image file. This allows us to perform image manipulation operations on the image."
   ]
  },
  {
   "cell_type": "markdown",
   "metadata": {},
   "source": [
    "#### Example 14\n",
    "Download the file `flower.jpg` from the Moodle area for this unit and copy to the same folder that this Jupyter Notebook is stored in. The Python commands below reads in the pixel data from an image, determines the size of the image and plots it using the `imshow` command. Enter them into the code cell below and execute it to see the result.\n",
    "\n",
    "```Python\n",
    "import matplotlib.image as mpimg\n",
    "\n",
    "# Read in image data\n",
    "img = mpimg.imread('flower.jpg')\n",
    "\n",
    "# Determine figure size based on the image size\n",
    "height, width, nbands = img.shape\n",
    "print('This image is {} wide by {} high and has {} colour bands.' \\\n",
    "      .format(width, height, nbands))\n",
    "\n",
    "# Plot image data\n",
    "fig = plt.subplots()\n",
    "imgplot = plt.imshow(img)\n",
    "```"
   ]
  },
  {
   "cell_type": "code",
   "execution_count": null,
   "metadata": {
    "scrolled": true
   },
   "outputs": [],
   "source": []
  },
  {
   "cell_type": "markdown",
   "metadata": {},
   "source": [
    "---\n",
    "## Exercise 6 - Image plots\n",
    "10. Use two nested `for` loops to generate a $11 \\times 11$ array `X` where the value of each element is the distance from the centre element, i.e.,\n",
    "\n",
    "$$[X]_{ij} = \\sqrt{(i-6)^2 + (j-6)^2}.$$\n",
    "\n",
    "Plot `X` using the `image` command.\n"
   ]
  },
  {
   "cell_type": "code",
   "execution_count": null,
   "metadata": {},
   "outputs": [],
   "source": []
  },
  {
   "cell_type": "markdown",
   "metadata": {},
   "source": [
    "11. Download the file `central_library.jpg` from the Moodle area for this unit and copy to the same folder that this Jupyter Notebook is stored in.  Load the data from this image into a NumPy array, determine the number of pixels in the image and plot the image."
   ]
  },
  {
   "cell_type": "code",
   "execution_count": null,
   "metadata": {},
   "outputs": [],
   "source": []
  }
 ],
 "metadata": {
  "colab": {
   "name": "6_plotting_solutions.ipynb",
   "provenance": [],
   "toc_visible": true
  },
  "kernelspec": {
   "display_name": "Python 3 (ipykernel)",
   "language": "python",
   "name": "python3"
  },
  "language_info": {
   "codemirror_mode": {
    "name": "ipython",
    "version": 3
   },
   "file_extension": ".py",
   "mimetype": "text/x-python",
   "name": "python",
   "nbconvert_exporter": "python",
   "pygments_lexer": "ipython3",
   "version": "3.8.11"
  }
 },
 "nbformat": 4,
 "nbformat_minor": 4
}
