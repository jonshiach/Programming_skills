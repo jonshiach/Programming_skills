{
 "cells": [
  {
   "cell_type": "markdown",
   "metadata": {},
   "source": [
    "## Linear Algebra and Programming Skills\n",
    "*Dr Jon Shiach, Department of Computing and Mathematics, Manchester Metropolitan University*"
   ]
  },
  {
   "cell_type": "markdown",
   "metadata": {
    "colab_type": "text",
    "id": "QfmWivEikemt"
   },
   "source": [
    "---\n",
    "# Arrays\n",
    "\n",
    "### Table of contents\n",
    "\n",
    "1. [Defining arrays](#Defining-arrays)\n",
    "1. [Exercise 1 - Defining arrays](#Exercise-1---Defining-arrays)\n",
    "1. [Indexing arrays](#Indexing-arrays)\n",
    "1. [Exercise 2 - Indexing arrays](#Exercise-2---Indexing-arrays)\n",
    "1. [Generating special arrays](#Generating-special-arrays)\n",
    "1. [Sequences of numbers](#Sequences-of-numbers)\n",
    "1. [Exercise 3 - Generating arrays](#Exercise-3---Generating-arrays)\n",
    "1. [Concatenating arrays¶](#Concatenating-arrays¶)\n",
    "1. [Matrix and array operations](#Matrix-and-array-operations)\n",
    "1. [Exercise 4 - Matrix and array operations](#Exercise-4---Matrix-and-array-operations)\n",
    "\n",
    "#### Learning Outcomes\n",
    "\n",
    "On successful completion of this page readers will be able to:\n",
    "- Define one- and two-dimensional arrays in Python;\n",
    "- index arrays to extract an element or multiple elements;\n",
    "- perform arithmetic and matrix operations on arrays.\n",
    "\n",
    "\n",
    "In mathematics, **vectors** can be expressed as either a row or column of elements and **matrices** are a rectangular array of elements. An individual element in the vector $\\mathbf{a}$ is identified by an **index** denoted using a subscript, e.g., $a_i$. The index is the position of the element in the vector starting at 1 for the first element. An individual element in a matrix is identified by two indices denoted in a subscript, e.g., $[A]_{ij}$, the first number corresponding to the row number and the second number corresponding to the column number.\n",
    "<br><br>\n",
    "$$\\mathbf{a}  = \\begin{bmatrix} a_1, & a_2, & \\cdots & a_n \\end{bmatrix}, \\qquad\n",
    "  \\mathbf{b}  = \\begin{bmatrix} b_1 \\\\ b_2 \\\\ \\vdots \\\\ b_n \\end{bmatrix}, \\qquad\n",
    "  A           = \\begin{bmatrix}\n",
    "            a_{11} & a_{12} & \\cdots & a_{1n} \\\\\n",
    "            a_{21} & a_{22} & \\cdots & a_{2n} \\\\\n",
    "            \\vdots & \\vdots & \\ddots & \\vdots \\\\\n",
    "            a_{m1} & a_{m2} & \\cdots & a_{mn}\n",
    "          \\end{bmatrix}.$$\n",
    "<br>\n",
    "In computer programming, a vector or matrix is represented using an **array**. Arrays can be one-dimensional where they contain a single row or column of elements, similar to a vector, or two-dimensional array similar to a matrix. It is possible to have higher dimensional arrays but this is not recommended as it can over complicate a program."
   ]
  },
  {
   "cell_type": "markdown",
   "metadata": {
    "colab_type": "text",
    "id": "VyoYJcMMkemy"
   },
   "source": [
    "---\n",
    "## Defining arrays\n",
    "\n",
    "### NumPy\n",
    "\n",
    "To work with matrices and arrays in Python we need to import the [`NumPy`](https://numpy.org/doc/stable/index.html) library. NumPy is a library containing functions which are very useful for scientific computing. To import NumPy execute the code cell below so that all other code cells can use NumPy commands."
   ]
  },
  {
   "cell_type": "code",
   "execution_count": null,
   "metadata": {
    "colab": {},
    "colab_type": "code",
    "id": "EXNPJJjVkemu"
   },
   "outputs": [],
   "source": [
    "import numpy as np"
   ]
  },
  {
   "cell_type": "markdown",
   "metadata": {
    "colab_type": "text",
    "id": "M2RZ3Jv9kemx"
   },
   "source": [
    "The use of this command means we can call the commands from NumPy using the prefix `np.`\n",
    "\n",
    "To define a one-dimensional array in Python we can use the `np.array` command ([numpy.array help page](https://numpy.org/doc/stable/reference/arrays.ndarray.html)).\n",
    "\n",
    "```Python\n",
    "A = np.array([a1, a2, ... , an ])\n",
    "```\n",
    "\n",
    "It is standard practice in programming to use an uppercase character for the first character in the array name. This helps to differentiate between arrays and variables."
   ]
  },
  {
   "cell_type": "markdown",
   "metadata": {
    "colab_type": "text",
    "id": "uTUyWidLwu_C"
   },
   "source": [
    "#### Example 1\n",
    "The commands below defines and prints the array corresponding to the vector $\\mathbf{a} = (1, 2, 3)$. Enter them into the code cell below and execute it (don't forget to execute the code cell above to use NumPy commands).\n",
    "\n",
    "```Python\n",
    "A = np.array([ 1, 2, 3 ])\n",
    "print(A)\n",
    "```"
   ]
  },
  {
   "cell_type": "code",
   "execution_count": null,
   "metadata": {
    "colab": {
     "base_uri": "https://localhost:8080/",
     "height": 34
    },
    "colab_type": "code",
    "executionInfo": {
     "elapsed": 1302,
     "status": "ok",
     "timestamp": 1584445307926,
     "user": {
      "displayName": "Jon Shiach",
      "photoUrl": "https://lh3.googleusercontent.com/a-/AOh14Gg5Zyp_bzksR5YWaZRwn4VACXUUvYtqWkv2YE_k6g=s64",
      "userId": "13042916198969597424"
     },
     "user_tz": 0
    },
    "id": "trR00Ohvkemy",
    "outputId": "b09f0b3a-c992-41fc-f782-7c2a7e334134"
   },
   "outputs": [],
   "source": []
  },
  {
   "cell_type": "markdown",
   "metadata": {
    "colab_type": "text",
    "id": "d00IuBXXkem4"
   },
   "source": [
    "Note that the elements in the row vector are contained within square bracket and elements are separated using commas. To define a two-dimensional array (i.e., a matrix) we input multiple row vectors separated by commas.\n",
    "\n",
    "```Python\n",
    "A = np.array([[ a11, a12, ..., a1n ],\n",
    "              [ a21, a22, ..., a2n ],\n",
    "                 :    :         :\n",
    "              [ am1, am2, ..., amn ]])\n",
    "```"
   ]
  },
  {
   "cell_type": "markdown",
   "metadata": {
    "colab_type": "text",
    "id": "ZibZf3Cawu_G"
   },
   "source": [
    "#### Example 2\n",
    "The commands below defines the array corresponding to the matrices\n",
    "<br><br>\n",
    "$$ A = \\begin{bmatrix} 1 & -2 \\\\ 0 & 5 \\end{bmatrix}, \\qquad \n",
    "B = \\begin{bmatrix} 2 \\\\ -4 \\\\ 5 \\end{bmatrix}, \\qquad \n",
    "C = \\begin{bmatrix} 1 & 0 & 7 \\\\ 4 & 7 & 5 \\end{bmatrix}.$$\n",
    "<br>\n",
    "and prints them. Enter them into the code cells below and execute each one. \n",
    "\n",
    "```Python\n",
    "A = np.array([[ 1, -2 ],\n",
    "              [ 0, 5 ]])\n",
    "print(A)\n",
    "```"
   ]
  },
  {
   "cell_type": "code",
   "execution_count": null,
   "metadata": {
    "colab": {
     "base_uri": "https://localhost:8080/",
     "height": 34
    },
    "colab_type": "code",
    "executionInfo": {
     "elapsed": 1296,
     "status": "ok",
     "timestamp": 1584445307926,
     "user": {
      "displayName": "Jon Shiach",
      "photoUrl": "https://lh3.googleusercontent.com/a-/AOh14Gg5Zyp_bzksR5YWaZRwn4VACXUUvYtqWkv2YE_k6g=s64",
      "userId": "13042916198969597424"
     },
     "user_tz": 0
    },
    "id": "x6gzJGl6kem8",
    "outputId": "38301af1-48a4-443e-cfef-117c826a1785"
   },
   "outputs": [],
   "source": []
  },
  {
   "cell_type": "markdown",
   "metadata": {},
   "source": [
    "```Python\n",
    "B = np.array([ [2], [-4], [5] ])\n",
    "print(B)\n",
    "```"
   ]
  },
  {
   "cell_type": "code",
   "execution_count": null,
   "metadata": {},
   "outputs": [],
   "source": []
  },
  {
   "cell_type": "markdown",
   "metadata": {},
   "source": [
    "```Python\n",
    "C = np.array([[ 1, 0, 7 ],\n",
    "              [ 4, 7, 5 ]])\n",
    "print(C)\n",
    "```"
   ]
  },
  {
   "cell_type": "code",
   "execution_count": null,
   "metadata": {
    "colab": {
     "base_uri": "https://localhost:8080/",
     "height": 51
    },
    "colab_type": "code",
    "executionInfo": {
     "elapsed": 1279,
     "status": "ok",
     "timestamp": 1584445307927,
     "user": {
      "displayName": "Jon Shiach",
      "photoUrl": "https://lh3.googleusercontent.com/a-/AOh14Gg5Zyp_bzksR5YWaZRwn4VACXUUvYtqWkv2YE_k6g=s64",
      "userId": "13042916198969597424"
     },
     "user_tz": 0
    },
    "id": "7mh4plr7kenE",
    "outputId": "c9bec8c0-9002-4128-c980-b06ece96278c"
   },
   "outputs": [],
   "source": []
  },
  {
   "cell_type": "markdown",
   "metadata": {
    "colab_type": "text",
    "id": "HDSr2oZTx-eV"
   },
   "source": [
    "---\n",
    "## Exercise 1 - Defining arrays\n",
    "1. Define and print arrays corresponding to the following vectors and matrices:\n",
    "\n",
    "(a) $A = \\begin{bmatrix}6, & 2, & 4, & -1 \\end{bmatrix}$;"
   ]
  },
  {
   "cell_type": "code",
   "execution_count": null,
   "metadata": {
    "colab": {
     "base_uri": "https://localhost:8080/",
     "height": 34
    },
    "colab_type": "code",
    "executionInfo": {
     "elapsed": 1273,
     "status": "ok",
     "timestamp": 1584445307928,
     "user": {
      "displayName": "Jon Shiach",
      "photoUrl": "https://lh3.googleusercontent.com/a-/AOh14Gg5Zyp_bzksR5YWaZRwn4VACXUUvYtqWkv2YE_k6g=s64",
      "userId": "13042916198969597424"
     },
     "user_tz": 0
    },
    "id": "BCWFeeyGyhT1",
    "outputId": "5792761f-6726-432d-aa13-6bedba9f9f19"
   },
   "outputs": [],
   "source": []
  },
  {
   "cell_type": "markdown",
   "metadata": {
    "colab_type": "text",
    "id": "HwxpE1zGyIlI"
   },
   "source": [
    "(b) $B = \\begin{bmatrix} 3 & 5 & -2 \\\\ -2 & 4 & 3 \\\\ 7 & 2 & -1  \\end{bmatrix}$;"
   ]
  },
  {
   "cell_type": "code",
   "execution_count": null,
   "metadata": {
    "colab": {
     "base_uri": "https://localhost:8080/",
     "height": 68
    },
    "colab_type": "code",
    "executionInfo": {
     "elapsed": 1264,
     "status": "ok",
     "timestamp": 1584445307928,
     "user": {
      "displayName": "Jon Shiach",
      "photoUrl": "https://lh3.googleusercontent.com/a-/AOh14Gg5Zyp_bzksR5YWaZRwn4VACXUUvYtqWkv2YE_k6g=s64",
      "userId": "13042916198969597424"
     },
     "user_tz": 0
    },
    "id": "3TtYhvo6yIs_",
    "outputId": "cbfc0a80-096c-4f98-8e75-fd8333b69bab"
   },
   "outputs": [],
   "source": []
  },
  {
   "cell_type": "markdown",
   "metadata": {
    "colab_type": "text",
    "id": "nNoEhFrjyI0X"
   },
   "source": [
    "(c) $C = \\begin{bmatrix} 2 & 0 & -1 & 4 \\\\ 7 & -3 & 9 & -5\\end{bmatrix}$;\n"
   ]
  },
  {
   "cell_type": "code",
   "execution_count": null,
   "metadata": {
    "colab": {
     "base_uri": "https://localhost:8080/",
     "height": 51
    },
    "colab_type": "code",
    "executionInfo": {
     "elapsed": 1257,
     "status": "ok",
     "timestamp": 1584445307928,
     "user": {
      "displayName": "Jon Shiach",
      "photoUrl": "https://lh3.googleusercontent.com/a-/AOh14Gg5Zyp_bzksR5YWaZRwn4VACXUUvYtqWkv2YE_k6g=s64",
      "userId": "13042916198969597424"
     },
     "user_tz": 0
    },
    "id": "Alv3X0I0yI70",
    "outputId": "23dc9fe6-04d8-4956-a90a-b350376a0298"
   },
   "outputs": [],
   "source": []
  },
  {
   "cell_type": "markdown",
   "metadata": {
    "colab_type": "text",
    "id": "hWHhRSjwyJCd"
   },
   "source": [
    "(d) $D = \\begin{bmatrix} -4 & 4 & 2 \\\\ 7 & 5 & -3 \\\\ 5 & 1 & 6 \\end{bmatrix}$."
   ]
  },
  {
   "cell_type": "code",
   "execution_count": null,
   "metadata": {
    "colab": {
     "base_uri": "https://localhost:8080/",
     "height": 68
    },
    "colab_type": "code",
    "executionInfo": {
     "elapsed": 1250,
     "status": "ok",
     "timestamp": 1584445307929,
     "user": {
      "displayName": "Jon Shiach",
      "photoUrl": "https://lh3.googleusercontent.com/a-/AOh14Gg5Zyp_bzksR5YWaZRwn4VACXUUvYtqWkv2YE_k6g=s64",
      "userId": "13042916198969597424"
     },
     "user_tz": 0
    },
    "id": "bX1Qu716yJJp",
    "outputId": "a1c70758-01e0-496a-dc3d-05e9c0213e26"
   },
   "outputs": [],
   "source": []
  },
  {
   "cell_type": "markdown",
   "metadata": {
    "colab_type": "text",
    "id": "PQl5L8n5kenF"
   },
   "source": [
    "---\n",
    "## Indexing arrays\n",
    "\n",
    "In Python, the elements of an array are indexed by their position **starting at 0 for the first element**. The index is written in square brackets following the array name.\n",
    "\n",
    "```Python\n",
    "A[i]\n",
    "```\n",
    "\n",
    "For two-dimensional arrays, the indices of an element are separated by a comma.\n",
    "\n",
    "```Python\n",
    "A[i,j]\n",
    "```\n",
    "\n",
    "To index elements at the end of a row or column we can use the index `-1` \n",
    "\n",
    "```Python\n",
    "A[-1]\n",
    "```\n",
    "\n",
    "The penultimate element is indexed using `-2` and so on."
   ]
  },
  {
   "cell_type": "markdown",
   "metadata": {
    "colab_type": "text",
    "id": "79xkV9OakenG"
   },
   "source": [
    "#### Example 3\n",
    "The commands below defines the array corresponding to the matrix\n",
    "<br><br>\n",
    "$$A = \\begin{bmatrix} 1 & 2 & 3 \\\\ 4 & 5 & 6 \\\\ 7 & 8 & 9 \\end{bmatrix},$$\n",
    "<br>\n",
    "and prints individual elements from it using array indexing. Enter them into the code cells below and execute each one.\n",
    "\n",
    "```Python\n",
    "A = np.array([[ 1, 2, 3 ],\n",
    "              [ 4, 5, 6 ],\n",
    "              [ 7, 8, 9 ]])\n",
    "print(A)\n",
    "```"
   ]
  },
  {
   "cell_type": "code",
   "execution_count": null,
   "metadata": {
    "colab": {
     "base_uri": "https://localhost:8080/",
     "height": 102
    },
    "colab_type": "code",
    "executionInfo": {
     "elapsed": 656,
     "status": "ok",
     "timestamp": 1585049983547,
     "user": {
      "displayName": "Jon Shiach",
      "photoUrl": "https://lh3.googleusercontent.com/a-/AOh14Gg5Zyp_bzksR5YWaZRwn4VACXUUvYtqWkv2YE_k6g=s64",
      "userId": "13042916198969597424"
     },
     "user_tz": 0
    },
    "id": "lVjyBTGokenG",
    "outputId": "c0971085-7f65-45e1-f575-95ce1b1ab9d0"
   },
   "outputs": [],
   "source": []
  },
  {
   "cell_type": "markdown",
   "metadata": {},
   "source": [
    "```Python\n",
    "print(A[0,0]) # output the element in row 1 column 1 of A\n",
    "```"
   ]
  },
  {
   "cell_type": "code",
   "execution_count": null,
   "metadata": {},
   "outputs": [],
   "source": []
  },
  {
   "cell_type": "markdown",
   "metadata": {},
   "source": [
    "```Python\n",
    "print(A[2,1]) # prints the element in row 3 column 2 of A\n",
    "```"
   ]
  },
  {
   "cell_type": "code",
   "execution_count": null,
   "metadata": {
    "colab": {
     "base_uri": "https://localhost:8080/",
     "height": 34
    },
    "colab_type": "code",
    "executionInfo": {
     "elapsed": 457,
     "status": "ok",
     "timestamp": 1585049985504,
     "user": {
      "displayName": "Jon Shiach",
      "photoUrl": "https://lh3.googleusercontent.com/a-/AOh14Gg5Zyp_bzksR5YWaZRwn4VACXUUvYtqWkv2YE_k6g=s64",
      "userId": "13042916198969597424"
     },
     "user_tz": 0
    },
    "id": "UBUMuSP5wu_U",
    "outputId": "c056d03c-323c-45ad-9d08-1dd725a98e5b"
   },
   "outputs": [],
   "source": []
  },
  {
   "cell_type": "markdown",
   "metadata": {},
   "source": [
    "```Python\n",
    "print(A[-2,-1]) # print the element in the second to last row and last column of A\n",
    "```"
   ]
  },
  {
   "cell_type": "code",
   "execution_count": null,
   "metadata": {
    "colab": {
     "base_uri": "https://localhost:8080/",
     "height": 34
    },
    "colab_type": "code",
    "executionInfo": {
     "elapsed": 1579,
     "status": "ok",
     "timestamp": 1584445308277,
     "user": {
      "displayName": "Jon Shiach",
      "photoUrl": "https://lh3.googleusercontent.com/a-/AOh14Gg5Zyp_bzksR5YWaZRwn4VACXUUvYtqWkv2YE_k6g=s64",
      "userId": "13042916198969597424"
     },
     "user_tz": 0
    },
    "id": "X9bysExNE35l",
    "outputId": "df54fb32-a542-4fd5-c880-9e18b15f8a5c"
   },
   "outputs": [],
   "source": []
  },
  {
   "cell_type": "markdown",
   "metadata": {
    "colab_type": "text",
    "id": "Fe0rjx5takFl"
   },
   "source": [
    "---\n",
    "### Determining the size of an array\n",
    "The number of elements in a one-dimensional array can be determined using\n",
    "```\n",
    "len(A)\n",
    "```\n",
    "\n",
    "The number of rows and columns in an two-dimensional array can be determined using the `.shape` property of the array ([numpy.shape help page](https://numpy.org/doc/stable/reference/generated/numpy.shape.html?highlight=shape#numpy.shape)).\n",
    "\n",
    "```\n",
    "A.shape\n",
    "```\n",
    "\n",
    "This returns the tuple `(rows, columns)` for the array `A`. "
   ]
  },
  {
   "cell_type": "markdown",
   "metadata": {
    "colab_type": "text",
    "id": "0y0qdd8ma2V7"
   },
   "source": [
    "#### Example 4\n",
    "The following commands defines arrays correpsonding to the matrices\n",
    "<br><br>\n",
    "$$A = \\begin{bmatrix} 1 & 2 & 3 & 4 \\end{bmatrix}, \\qquad B = \\begin{bmatrix} 1 & 3 & 5 \\\\ 7 & 9 & 11 \\\\ 13 & 15 & 17 \\\\ 19 & 21 & 23 \\end{bmatrix}$$\n",
    "<br>\n",
    "and prints their sizes. Enter them into the code cell below and execute it.\n",
    "\n",
    "```Python\n",
    "A = np.array([ 1, 2, 3, 4 ])\n",
    "B = np.array([[ 1, 3, 5 ],\n",
    "              [ 7, 9, 11 ],\n",
    "              [ 13, 15, 17 ],\n",
    "              [ 19, 21, 23 ]])\n",
    "\n",
    "length_of_A = len(A)\n",
    "rows_in_B, columns_in_B = B.shape\n",
    "\n",
    "print(\"The array A has {} elements.\".format(length_of_A))\n",
    "print(\"The array B has {} rows and {} columns.\".format(rows_in_B, columns_in_B))\n",
    "```"
   ]
  },
  {
   "cell_type": "code",
   "execution_count": null,
   "metadata": {
    "colab": {
     "base_uri": "https://localhost:8080/",
     "height": 51
    },
    "colab_type": "code",
    "executionInfo": {
     "elapsed": 648,
     "status": "ok",
     "timestamp": 1584451230295,
     "user": {
      "displayName": "Jon Shiach",
      "photoUrl": "https://lh3.googleusercontent.com/a-/AOh14Gg5Zyp_bzksR5YWaZRwn4VACXUUvYtqWkv2YE_k6g=s64",
      "userId": "13042916198969597424"
     },
     "user_tz": 0
    },
    "id": "Gg9K2KncbE5n",
    "outputId": "bf0658bc-f71e-414a-8299-f61771b39c20"
   },
   "outputs": [],
   "source": []
  },
  {
   "cell_type": "markdown",
   "metadata": {
    "colab_type": "text",
    "id": "AKQS5aHzkenL"
   },
   "source": [
    "---\n",
    "### Array slicing\n",
    "**Array slicing** allows us to return multiple elements from a NumPy array\n",
    "\n",
    "```Python\n",
    "A[start : stop : step]\n",
    "```\n",
    "\n",
    "If any these are unspecified Python uses the default values `start=0`, `stop=size of dimension`, `step=1`.\n"
   ]
  },
  {
   "cell_type": "markdown",
   "metadata": {
    "colab_type": "text",
    "id": "8o8GJ86wkenL"
   },
   "source": [
    "#### Example 5\n",
    "The following commands defines the array corresponding to the matrix \n",
    "<br><br>\n",
    "$$A = \\begin{bmatrix} 1 & 2 & 3 \\\\ 4 & 5 & 6 \\\\ 7 & 8 & 9 \\end{bmatrix} $$ \n",
    "<br>\n",
    "and uses array slicing to access elements from it. Enter them into the code cells below and execute each one.\n",
    "\n",
    "```Python\n",
    "A = np.array([[ 1, 2, 3 ],\n",
    "              [ 4, 5, 6 ],\n",
    "              [ 7, 8, 9 ]])\n",
    "\n",
    "print(A[0,:]) # print the first row of A\n",
    "```"
   ]
  },
  {
   "cell_type": "code",
   "execution_count": null,
   "metadata": {
    "colab": {
     "base_uri": "https://localhost:8080/",
     "height": 102
    },
    "colab_type": "code",
    "executionInfo": {
     "elapsed": 1566,
     "status": "ok",
     "timestamp": 1584445308278,
     "user": {
      "displayName": "Jon Shiach",
      "photoUrl": "https://lh3.googleusercontent.com/a-/AOh14Gg5Zyp_bzksR5YWaZRwn4VACXUUvYtqWkv2YE_k6g=s64",
      "userId": "13042916198969597424"
     },
     "user_tz": 0
    },
    "id": "MMtULqFwkenM",
    "outputId": "696b94bf-cea4-4811-aef5-6a29eb6afbb6"
   },
   "outputs": [],
   "source": []
  },
  {
   "cell_type": "markdown",
   "metadata": {},
   "source": [
    "```Python\n",
    "print(A[:,1]) # print column 2 of A\n",
    "```"
   ]
  },
  {
   "cell_type": "code",
   "execution_count": null,
   "metadata": {
    "colab": {
     "base_uri": "https://localhost:8080/",
     "height": 34
    },
    "colab_type": "code",
    "executionInfo": {
     "elapsed": 1563,
     "status": "ok",
     "timestamp": 1584445308278,
     "user": {
      "displayName": "Jon Shiach",
      "photoUrl": "https://lh3.googleusercontent.com/a-/AOh14Gg5Zyp_bzksR5YWaZRwn4VACXUUvYtqWkv2YE_k6g=s64",
      "userId": "13042916198969597424"
     },
     "user_tz": 0
    },
    "id": "DLWfy1bNkenP",
    "outputId": "7245feb7-976f-4e3e-abb9-65ecb5e0f235"
   },
   "outputs": [],
   "source": []
  },
  {
   "cell_type": "markdown",
   "metadata": {
    "colab_type": "text",
    "id": "Izb0to7tkenQ"
   },
   "source": [
    "Note that Python returned a $1\\times 3$ array instead of a $3\\times 1$ array. Python always prints one-dimensional arrays as a row vector."
   ]
  },
  {
   "cell_type": "markdown",
   "metadata": {},
   "source": [
    "```Python\n",
    "print(A[1,1:]) # print the elements from column 2 onwards in row 2 of A\n",
    "```"
   ]
  },
  {
   "cell_type": "code",
   "execution_count": null,
   "metadata": {
    "colab": {
     "base_uri": "https://localhost:8080/",
     "height": 34
    },
    "colab_type": "code",
    "executionInfo": {
     "elapsed": 1560,
     "status": "ok",
     "timestamp": 1584445308279,
     "user": {
      "displayName": "Jon Shiach",
      "photoUrl": "https://lh3.googleusercontent.com/a-/AOh14Gg5Zyp_bzksR5YWaZRwn4VACXUUvYtqWkv2YE_k6g=s64",
      "userId": "13042916198969597424"
     },
     "user_tz": 0
    },
    "id": "vAOY9r6OFXyK",
    "outputId": "e0bff6cc-82df-40ba-b451-e819f82ad240"
   },
   "outputs": [],
   "source": []
  },
  {
   "cell_type": "markdown",
   "metadata": {},
   "source": [
    "```Python\n",
    "print(A[-1,::-1]) # print the last row of A in reverse column order\n",
    "```"
   ]
  },
  {
   "cell_type": "code",
   "execution_count": null,
   "metadata": {
    "colab": {
     "base_uri": "https://localhost:8080/",
     "height": 34
    },
    "colab_type": "code",
    "executionInfo": {
     "elapsed": 1556,
     "status": "ok",
     "timestamp": 1584445308279,
     "user": {
      "displayName": "Jon Shiach",
      "photoUrl": "https://lh3.googleusercontent.com/a-/AOh14Gg5Zyp_bzksR5YWaZRwn4VACXUUvYtqWkv2YE_k6g=s64",
      "userId": "13042916198969597424"
     },
     "user_tz": 0
    },
    "id": "p3BXdtM-F4wo",
    "outputId": "cde979c2-95e0-4643-b3b1-acc9714bb879"
   },
   "outputs": [],
   "source": []
  },
  {
   "cell_type": "markdown",
   "metadata": {
    "colab_type": "text",
    "id": "omcb8fKMwvAo"
   },
   "source": [
    "---\n",
    "## Exercise 2 - Indexing arrays"
   ]
  },
  {
   "cell_type": "markdown",
   "metadata": {
    "colab_type": "text",
    "id": "4ex9nd9uThmX"
   },
   "source": [
    "2. Define an array corresponding to the matrix \n",
    "\n",
    "$$A = \\begin{bmatrix} 6 & -2 & 4 &  0 \\\\ -4 & 6 & -1 & 2 \\\\ 4 & -3 & -5 & 6 \\end{bmatrix}.$$"
   ]
  },
  {
   "cell_type": "code",
   "execution_count": null,
   "metadata": {
    "colab": {},
    "colab_type": "code",
    "id": "6eer1sI0Itho"
   },
   "outputs": [],
   "source": []
  },
  {
   "cell_type": "markdown",
   "metadata": {
    "colab_type": "text",
    "id": "S4uhJbaZItnG"
   },
   "source": [
    "3. Use the array defined in question 2 and array indexing to print:\n",
    "\n",
    "(a) $[A]_{12}$;"
   ]
  },
  {
   "cell_type": "code",
   "execution_count": null,
   "metadata": {
    "colab": {
     "base_uri": "https://localhost:8080/",
     "height": 34
    },
    "colab_type": "code",
    "executionInfo": {
     "elapsed": 1552,
     "status": "ok",
     "timestamp": 1584445308279,
     "user": {
      "displayName": "Jon Shiach",
      "photoUrl": "https://lh3.googleusercontent.com/a-/AOh14Gg5Zyp_bzksR5YWaZRwn4VACXUUvYtqWkv2YE_k6g=s64",
      "userId": "13042916198969597424"
     },
     "user_tz": 0
    },
    "id": "RnYtjA2BIIFW",
    "outputId": "e96d2aad-21b4-4b86-edaf-56fd9014459f"
   },
   "outputs": [],
   "source": []
  },
  {
   "cell_type": "markdown",
   "metadata": {
    "colab_type": "text",
    "id": "MOxuJh9eIILk"
   },
   "source": [
    "(b) $[A]_{32}$;"
   ]
  },
  {
   "cell_type": "code",
   "execution_count": null,
   "metadata": {
    "colab": {
     "base_uri": "https://localhost:8080/",
     "height": 34
    },
    "colab_type": "code",
    "executionInfo": {
     "elapsed": 1548,
     "status": "ok",
     "timestamp": 1584445308280,
     "user": {
      "displayName": "Jon Shiach",
      "photoUrl": "https://lh3.googleusercontent.com/a-/AOh14Gg5Zyp_bzksR5YWaZRwn4VACXUUvYtqWkv2YE_k6g=s64",
      "userId": "13042916198969597424"
     },
     "user_tz": 0
    },
    "id": "Vt2h5LlJIIR4",
    "outputId": "af419b0a-d390-41d4-f87b-e557b09cffde"
   },
   "outputs": [],
   "source": []
  },
  {
   "cell_type": "markdown",
   "metadata": {
    "colab_type": "text",
    "id": "iCLbGeCoIIYI"
   },
   "source": [
    "(c) the first row of $A$;"
   ]
  },
  {
   "cell_type": "code",
   "execution_count": null,
   "metadata": {
    "colab": {
     "base_uri": "https://localhost:8080/",
     "height": 34
    },
    "colab_type": "code",
    "executionInfo": {
     "elapsed": 1544,
     "status": "ok",
     "timestamp": 1584445308280,
     "user": {
      "displayName": "Jon Shiach",
      "photoUrl": "https://lh3.googleusercontent.com/a-/AOh14Gg5Zyp_bzksR5YWaZRwn4VACXUUvYtqWkv2YE_k6g=s64",
      "userId": "13042916198969597424"
     },
     "user_tz": 0
    },
    "id": "s7chP9lqIIfL",
    "outputId": "38753653-101e-4fd0-9be7-0afd25ec5ae2"
   },
   "outputs": [],
   "source": []
  },
  {
   "cell_type": "markdown",
   "metadata": {
    "colab_type": "text",
    "id": "2Q2zZQzZIIsH"
   },
   "source": [
    "(d) The middle two elements of the second row of $A$;"
   ]
  },
  {
   "cell_type": "code",
   "execution_count": null,
   "metadata": {
    "colab": {
     "base_uri": "https://localhost:8080/",
     "height": 34
    },
    "colab_type": "code",
    "executionInfo": {
     "elapsed": 1539,
     "status": "ok",
     "timestamp": 1584445308280,
     "user": {
      "displayName": "Jon Shiach",
      "photoUrl": "https://lh3.googleusercontent.com/a-/AOh14Gg5Zyp_bzksR5YWaZRwn4VACXUUvYtqWkv2YE_k6g=s64",
      "userId": "13042916198969597424"
     },
     "user_tz": 0
    },
    "id": "XpW8bdw-IIzP",
    "outputId": "68189e27-8259-484e-8dc3-a91f678c314d"
   },
   "outputs": [],
   "source": []
  },
  {
   "cell_type": "markdown",
   "metadata": {
    "colab_type": "text",
    "id": "koUFe6mHII6S"
   },
   "source": [
    "(e) The even columns of $A$;"
   ]
  },
  {
   "cell_type": "code",
   "execution_count": null,
   "metadata": {
    "colab": {
     "base_uri": "https://localhost:8080/",
     "height": 68
    },
    "colab_type": "code",
    "executionInfo": {
     "elapsed": 1535,
     "status": "ok",
     "timestamp": 1584445308281,
     "user": {
      "displayName": "Jon Shiach",
      "photoUrl": "https://lh3.googleusercontent.com/a-/AOh14Gg5Zyp_bzksR5YWaZRwn4VACXUUvYtqWkv2YE_k6g=s64",
      "userId": "13042916198969597424"
     },
     "user_tz": 0
    },
    "id": "6Xw-H3sxIckg",
    "outputId": "8639a8bf-bce5-4167-fcd4-6571f3e324e2"
   },
   "outputs": [],
   "source": []
  },
  {
   "cell_type": "markdown",
   "metadata": {
    "colab_type": "text",
    "id": "kpecAAVNIcrG"
   },
   "source": [
    "(f) The matrix $A$ flipped upside-down (i.e., the rows of $A$ in reverse order)."
   ]
  },
  {
   "cell_type": "code",
   "execution_count": null,
   "metadata": {
    "colab": {
     "base_uri": "https://localhost:8080/",
     "height": 68
    },
    "colab_type": "code",
    "executionInfo": {
     "elapsed": 1531,
     "status": "ok",
     "timestamp": 1584445308281,
     "user": {
      "displayName": "Jon Shiach",
      "photoUrl": "https://lh3.googleusercontent.com/a-/AOh14Gg5Zyp_bzksR5YWaZRwn4VACXUUvYtqWkv2YE_k6g=s64",
      "userId": "13042916198969597424"
     },
     "user_tz": 0
    },
    "id": "uJTEtfJeIcwv",
    "outputId": "2f3bcca8-18c8-402b-a8fa-a3e64de4187f"
   },
   "outputs": [],
   "source": []
  },
  {
   "cell_type": "markdown",
   "metadata": {
    "colab_type": "text",
    "id": "JbVq86T_kenR"
   },
   "source": [
    "---\n",
    "## Generating special arrays\n",
    "The NumPy library has some commands that can be used to generate special arrays. To generate an array containing all zeros, all ones or the identity matrix we can use the following commands\n",
    "\n",
    "```\n",
    "np.zeros((m, n))\n",
    "np.ones((m, n))\n",
    "np.eye(n)\n",
    "```"
   ]
  },
  {
   "cell_type": "markdown",
   "metadata": {
    "colab_type": "text",
    "id": "9TB3j6sOwu_g"
   },
   "source": [
    "#### Example 6\n",
    "The commands below generates special arrays. Enter them into the codel cells below and execute each one.\n",
    "\n",
    "```Python\n",
    "A = np.zeros(3)\n",
    "print(A)\n",
    "```"
   ]
  },
  {
   "cell_type": "code",
   "execution_count": null,
   "metadata": {
    "colab": {
     "base_uri": "https://localhost:8080/",
     "height": 34
    },
    "colab_type": "code",
    "executionInfo": {
     "elapsed": 1527,
     "status": "ok",
     "timestamp": 1584445308281,
     "user": {
      "displayName": "Jon Shiach",
      "photoUrl": "https://lh3.googleusercontent.com/a-/AOh14Gg5Zyp_bzksR5YWaZRwn4VACXUUvYtqWkv2YE_k6g=s64",
      "userId": "13042916198969597424"
     },
     "user_tz": 0
    },
    "id": "BacGNl3dwu_h",
    "outputId": "71a4e675-3d6a-40b0-cc60-5e3f24194463"
   },
   "outputs": [],
   "source": []
  },
  {
   "cell_type": "markdown",
   "metadata": {},
   "source": [
    "```Python\n",
    "print(np.ones((3, 2)))\n",
    "```"
   ]
  },
  {
   "cell_type": "code",
   "execution_count": null,
   "metadata": {
    "colab": {
     "base_uri": "https://localhost:8080/",
     "height": 68
    },
    "colab_type": "code",
    "executionInfo": {
     "elapsed": 1523,
     "status": "ok",
     "timestamp": 1584445308282,
     "user": {
      "displayName": "Jon Shiach",
      "photoUrl": "https://lh3.googleusercontent.com/a-/AOh14Gg5Zyp_bzksR5YWaZRwn4VACXUUvYtqWkv2YE_k6g=s64",
      "userId": "13042916198969597424"
     },
     "user_tz": 0
    },
    "id": "w7dyMaEgwu_j",
    "outputId": "3d23902d-1968-415f-9fad-0b199130dbe6"
   },
   "outputs": [],
   "source": []
  },
  {
   "cell_type": "markdown",
   "metadata": {},
   "source": [
    "```Python\n",
    "I = np.eye(4)\n",
    "print(I)\n",
    "```"
   ]
  },
  {
   "cell_type": "code",
   "execution_count": null,
   "metadata": {
    "colab": {
     "base_uri": "https://localhost:8080/",
     "height": 85
    },
    "colab_type": "code",
    "executionInfo": {
     "elapsed": 1518,
     "status": "ok",
     "timestamp": 1584445308282,
     "user": {
      "displayName": "Jon Shiach",
      "photoUrl": "https://lh3.googleusercontent.com/a-/AOh14Gg5Zyp_bzksR5YWaZRwn4VACXUUvYtqWkv2YE_k6g=s64",
      "userId": "13042916198969597424"
     },
     "user_tz": 0
    },
    "id": "jDfG_WqQwu_l",
    "outputId": "7e735ee8-889e-4dec-81a9-0c68d15e4127"
   },
   "outputs": [],
   "source": []
  },
  {
   "cell_type": "markdown",
   "metadata": {
    "colab_type": "text",
    "id": "-oStntm1keng"
   },
   "source": [
    "--- \n",
    "## Sequences of numbers\n",
    "\n",
    "A one-dimensional array containing a sequence of numbers can be generated using the `np.arange` command ([numpy.arange help page](https://numpy.org/doc/stable/reference/generated/numpy.arange.html?highlight=numpy%20arange#numpy.arange)).\n",
    "\n",
    "```Python\n",
    "np.arange(end)\n",
    "```\n",
    "\n",
    "This will generate an array containing integer numbers from 0 to `end-1`. For other sequences we can use\n",
    "\n",
    "```Python\n",
    "np.arange(start, end, step)\n",
    "```\n",
    "\n",
    "This will generate an array of numbers starting at `start` and finishing at `end-1` where the difference between each number is `step`. When `step` isn't specified Python will assume a step of 1."
   ]
  },
  {
   "cell_type": "markdown",
   "metadata": {
    "colab_type": "text",
    "id": "133I-TtEwu_n"
   },
   "source": [
    "#### Example 7\n",
    "The commands below uses the `np.arange` command to define arrays which contain sequences of numbers. Enter them into the code cells below and execute each one.\n",
    "\n",
    "```Python\n",
    "print(np.arange(10))\n",
    "```"
   ]
  },
  {
   "cell_type": "code",
   "execution_count": null,
   "metadata": {
    "colab": {
     "base_uri": "https://localhost:8080/",
     "height": 34
    },
    "colab_type": "code",
    "executionInfo": {
     "elapsed": 1512,
     "status": "ok",
     "timestamp": 1584445308282,
     "user": {
      "displayName": "Jon Shiach",
      "photoUrl": "https://lh3.googleusercontent.com/a-/AOh14Gg5Zyp_bzksR5YWaZRwn4VACXUUvYtqWkv2YE_k6g=s64",
      "userId": "13042916198969597424"
     },
     "user_tz": 0
    },
    "id": "EyxoZODKkeng",
    "outputId": "2cad5f15-57f5-45a6-c61d-45edc40283fd"
   },
   "outputs": [],
   "source": []
  },
  {
   "cell_type": "markdown",
   "metadata": {},
   "source": [
    "```Python\n",
    "print(np.arange(2, 6))\n",
    "```"
   ]
  },
  {
   "cell_type": "code",
   "execution_count": null,
   "metadata": {
    "colab": {
     "base_uri": "https://localhost:8080/",
     "height": 34
    },
    "colab_type": "code",
    "executionInfo": {
     "elapsed": 1506,
     "status": "ok",
     "timestamp": 1584445308283,
     "user": {
      "displayName": "Jon Shiach",
      "photoUrl": "https://lh3.googleusercontent.com/a-/AOh14Gg5Zyp_bzksR5YWaZRwn4VACXUUvYtqWkv2YE_k6g=s64",
      "userId": "13042916198969597424"
     },
     "user_tz": 0
    },
    "id": "VnBdFJPrkeni",
    "outputId": "61373b27-af6d-498c-ef1a-4d2c92078d8c"
   },
   "outputs": [],
   "source": []
  },
  {
   "cell_type": "markdown",
   "metadata": {},
   "source": [
    "```Python\n",
    "print(np.arange(1, 9, 2))\n",
    "```"
   ]
  },
  {
   "cell_type": "code",
   "execution_count": null,
   "metadata": {
    "colab": {
     "base_uri": "https://localhost:8080/",
     "height": 34
    },
    "colab_type": "code",
    "executionInfo": {
     "elapsed": 1499,
     "status": "ok",
     "timestamp": 1584445308283,
     "user": {
      "displayName": "Jon Shiach",
      "photoUrl": "https://lh3.googleusercontent.com/a-/AOh14Gg5Zyp_bzksR5YWaZRwn4VACXUUvYtqWkv2YE_k6g=s64",
      "userId": "13042916198969597424"
     },
     "user_tz": 0
    },
    "id": "H9U0qPoTkenk",
    "outputId": "0216ed16-9aa5-410c-a991-1e01366061c5"
   },
   "outputs": [],
   "source": []
  },
  {
   "cell_type": "markdown",
   "metadata": {
    "colab_type": "text",
    "id": "KVv97SkKL6Bb"
   },
   "source": [
    "---\n",
    "## Exercise 3 - Generating arrays"
   ]
  },
  {
   "cell_type": "markdown",
   "metadata": {
    "colab_type": "text",
    "id": "avrxXPkswvAx"
   },
   "source": [
    "4. Define a $10 \\times 10$ array where each element is 1."
   ]
  },
  {
   "cell_type": "code",
   "execution_count": null,
   "metadata": {
    "colab": {
     "base_uri": "https://localhost:8080/",
     "height": 187
    },
    "colab_type": "code",
    "executionInfo": {
     "elapsed": 1055,
     "status": "ok",
     "timestamp": 1585238020586,
     "user": {
      "displayName": "Jon Shiach",
      "photoUrl": "https://lh3.googleusercontent.com/a-/AOh14Gg5Zyp_bzksR5YWaZRwn4VACXUUvYtqWkv2YE_k6g=s64",
      "userId": "13042916198969597424"
     },
     "user_tz": 0
    },
    "id": "vIF25H0GwvAx",
    "outputId": "53da2933-5b88-446e-c52b-d691185b5ead"
   },
   "outputs": [],
   "source": []
  },
  {
   "cell_type": "markdown",
   "metadata": {
    "colab_type": "text",
    "id": "c2dcXs39wvA0"
   },
   "source": [
    "5. Define an $8\\times 8$ indentity matrix."
   ]
  },
  {
   "cell_type": "code",
   "execution_count": null,
   "metadata": {
    "colab": {
     "base_uri": "https://localhost:8080/",
     "height": 153
    },
    "colab_type": "code",
    "executionInfo": {
     "elapsed": 590,
     "status": "ok",
     "timestamp": 1585050143688,
     "user": {
      "displayName": "Jon Shiach",
      "photoUrl": "https://lh3.googleusercontent.com/a-/AOh14Gg5Zyp_bzksR5YWaZRwn4VACXUUvYtqWkv2YE_k6g=s64",
      "userId": "13042916198969597424"
     },
     "user_tz": 0
    },
    "id": "f-mJrNEcwvA0",
    "outputId": "9d9e74b6-828e-48c7-95b0-e670d11cfbb7"
   },
   "outputs": [],
   "source": []
  },
  {
   "cell_type": "markdown",
   "metadata": {
    "colab_type": "text",
    "id": "QCaKklJPwvA1"
   },
   "source": [
    "6. Use the `np.arange()` command to define an array containing the first ten multiples of 3."
   ]
  },
  {
   "cell_type": "code",
   "execution_count": null,
   "metadata": {
    "colab": {
     "base_uri": "https://localhost:8080/",
     "height": 34
    },
    "colab_type": "code",
    "executionInfo": {
     "elapsed": 1872,
     "status": "ok",
     "timestamp": 1584445308679,
     "user": {
      "displayName": "Jon Shiach",
      "photoUrl": "https://lh3.googleusercontent.com/a-/AOh14Gg5Zyp_bzksR5YWaZRwn4VACXUUvYtqWkv2YE_k6g=s64",
      "userId": "13042916198969597424"
     },
     "user_tz": 0
    },
    "id": "X4HcXZ8JwvA2",
    "outputId": "aa6e90a2-8659-40c4-d15f-6d692f220844"
   },
   "outputs": [],
   "source": []
  },
  {
   "cell_type": "markdown",
   "metadata": {
    "colab_type": "text",
    "id": "le83UGsR3K2J"
   },
   "source": [
    "---\n",
    "## Concatenating arrays\n",
    "NumPy arrays can be **concantenated** (merged) using the `np.concatenate` command ([numpy.concatenate help page](https://numpy.org/doc/stable/reference/generated/numpy.concatenate.html?highlight=concatenate#numpy.concatenate))\n",
    "\n",
    "```\n",
    "np.concatenate((first matrix, second matrix), axis=0)\n",
    "```\n",
    "\n",
    "This will form a new matrix where the `second matrix` is placed below the `first matrix`. To form a matrix where the `second matrix` is placed to the right of the `first matrix` we can use\n",
    "\n",
    "```\n",
    "np.concatenate((first matrix, second matrix), axis=1)\n",
    "```"
   ]
  },
  {
   "cell_type": "markdown",
   "metadata": {
    "colab_type": "text",
    "id": "M0gWQd5a42z8"
   },
   "source": [
    "#### Example 8\n",
    "The commands below define array corresponding to the matrices\n",
    "<br><br>\n",
    "$$A = \\begin{bmatrix} 1 & 2 \\\\ 3 & 3 \\end{bmatrix}, \\qquad B = \\begin{bmatrix} 5 & 6 \\\\ 7 & 8 \\end{bmatrix},$$\n",
    "<br>\n",
    "and concatenates them (the `end=\"\\n\\n\"` command is used to space out the printed arrays). Enter them into the code cell below and execute it.\n",
    "\n",
    "```Python\n",
    "A = np.array([[ 1, 2 ],\n",
    "              [ 3, 4 ]])\n",
    "B = np.array([[ 5, 6 ],\n",
    "              [ 7, 8 ]])\n",
    "\n",
    "print(A, end=\"\\n\\n\")\n",
    "print(B, end=\"\\n\\n\")\n",
    "print(np.concatenate((A, B), axis=0), end=\"\\n\\n\") # merge A and B with A on top of B\n",
    "print(np.concatenate((A, B), axis=1))             # merge A and B side-by-side\n",
    "```"
   ]
  },
  {
   "cell_type": "code",
   "execution_count": null,
   "metadata": {
    "colab": {
     "base_uri": "https://localhost:8080/",
     "height": 238
    },
    "colab_type": "code",
    "executionInfo": {
     "elapsed": 453,
     "status": "ok",
     "timestamp": 1585238252050,
     "user": {
      "displayName": "Jon Shiach",
      "photoUrl": "https://lh3.googleusercontent.com/a-/AOh14Gg5Zyp_bzksR5YWaZRwn4VACXUUvYtqWkv2YE_k6g=s64",
      "userId": "13042916198969597424"
     },
     "user_tz": 0
    },
    "id": "yX3ZojZa44yr",
    "outputId": "ded5dbb4-5dee-4e1a-a3c0-897945e2b3be"
   },
   "outputs": [],
   "source": []
  },
  {
   "cell_type": "markdown",
   "metadata": {},
   "source": [
    "---\n",
    "## Matrix and array operations\n",
    "\n",
    "The Python commands for the common operations on matrices and arrays are summarised in the table below.\n",
    "\n",
    "| Operation           | Name                    | Python code |\n",
    "|:---:|:--|:--|\n",
    "| $A + B$             | matrix addition         | `A + B`                 |\n",
    "| $A - B$             | matrix subtraction      | `A - B`                 |\n",
    "| $kA$                | scalar multiplication   | `k * A`                 |\n",
    "| $A_{ij}B_{ij}$      | element-wise multiplication | `A * B`       |\n",
    "| $AB$                | matrix multiplication   | `np.dot(A, B)`       |\n",
    "| $[A]_{ij}^k$        | element-wise power      | `A  k`                |\n",
    "| $A^k$               | matrix power            | `np.linalg.matrix_power(A, k)` |\n",
    "| $A^T$               | matrix transpose        | `A.T`                   |\n",
    "| $\\det(A)$           | determinant of a matrix | `np.linalg.det(A)`      |\n",
    "| $A^{-1}$            | inverse of a matrix     | `np.linalg.inv(A)`      |\n",
    "| $\\sin(A)$           | $\\sin$ of a matrix* | `np.sin(A)`             |\n",
    "\n",
    "\\* Other mathematical functions are treated similarly."
   ]
  },
  {
   "cell_type": "markdown",
   "metadata": {
    "colab_type": "text",
    "id": "y6GA7Go-wu_u"
   },
   "source": [
    "#### Example 9\n",
    "The commands below defines arrays corresponding to the matrices\n",
    "<br><br>\n",
    "$$A = \\begin{bmatrix} 1 & 2 \\\\ 3 & 4 \\end{bmatrix}, \\qquad B = \\begin{bmatrix} 5 & 6 \\\\ 7 & 8 \\end{bmatrix},$$ \n",
    "<br>\n",
    "and performs operations on them. Enter them into the code cells below and execute each one.\n",
    "\n",
    "```Python\n",
    "A = np.array([[ 1, 2 ],\n",
    "              [ 3, 4 ]])\n",
    "B = np.array([[ 5, 6 ],\n",
    "              [ 7, 8 ]])\n",
    "\n",
    "print(A, end=\"\\n\\n\")\n",
    "print(B)\n",
    "```"
   ]
  },
  {
   "cell_type": "code",
   "execution_count": null,
   "metadata": {
    "colab": {
     "base_uri": "https://localhost:8080/",
     "height": 102
    },
    "colab_type": "code",
    "executionInfo": {
     "elapsed": 1867,
     "status": "ok",
     "timestamp": 1584445308680,
     "user": {
      "displayName": "Jon Shiach",
      "photoUrl": "https://lh3.googleusercontent.com/a-/AOh14Gg5Zyp_bzksR5YWaZRwn4VACXUUvYtqWkv2YE_k6g=s64",
      "userId": "13042916198969597424"
     },
     "user_tz": 0
    },
    "id": "2Fb9iSVNkenu",
    "outputId": "7c0bf709-6093-45c5-f31a-4d5a0f020204"
   },
   "outputs": [],
   "source": []
  },
  {
   "cell_type": "markdown",
   "metadata": {},
   "source": [
    "```Python\n",
    "print(A + B) # matrix addition\n",
    "```"
   ]
  },
  {
   "cell_type": "code",
   "execution_count": null,
   "metadata": {
    "colab": {
     "base_uri": "https://localhost:8080/",
     "height": 51
    },
    "colab_type": "code",
    "executionInfo": {
     "elapsed": 1862,
     "status": "ok",
     "timestamp": 1584445308680,
     "user": {
      "displayName": "Jon Shiach",
      "photoUrl": "https://lh3.googleusercontent.com/a-/AOh14Gg5Zyp_bzksR5YWaZRwn4VACXUUvYtqWkv2YE_k6g=s64",
      "userId": "13042916198969597424"
     },
     "user_tz": 0
    },
    "id": "txw2TpjDwu_w",
    "outputId": "ecd582d6-b370-4faa-ff49-5d121533a1ed"
   },
   "outputs": [],
   "source": []
  },
  {
   "cell_type": "markdown",
   "metadata": {},
   "source": [
    "```Python\n",
    "print(3 * A) # scalar multiplication\n",
    "```"
   ]
  },
  {
   "cell_type": "code",
   "execution_count": null,
   "metadata": {
    "colab": {
     "base_uri": "https://localhost:8080/",
     "height": 51
    },
    "colab_type": "code",
    "executionInfo": {
     "elapsed": 1857,
     "status": "ok",
     "timestamp": 1584445308680,
     "user": {
      "displayName": "Jon Shiach",
      "photoUrl": "https://lh3.googleusercontent.com/a-/AOh14Gg5Zyp_bzksR5YWaZRwn4VACXUUvYtqWkv2YE_k6g=s64",
      "userId": "13042916198969597424"
     },
     "user_tz": 0
    },
    "id": "qOwoB0Bywu_y",
    "outputId": "c6775b5f-a4ec-4376-df80-4e55dc6a5c25"
   },
   "outputs": [],
   "source": []
  },
  {
   "cell_type": "markdown",
   "metadata": {},
   "source": [
    "```Python\n",
    "print(A * B) # element-wise multiplication\n",
    "```"
   ]
  },
  {
   "cell_type": "code",
   "execution_count": null,
   "metadata": {
    "colab": {
     "base_uri": "https://localhost:8080/",
     "height": 51
    },
    "colab_type": "code",
    "executionInfo": {
     "elapsed": 1852,
     "status": "ok",
     "timestamp": 1584445308680,
     "user": {
      "displayName": "Jon Shiach",
      "photoUrl": "https://lh3.googleusercontent.com/a-/AOh14Gg5Zyp_bzksR5YWaZRwn4VACXUUvYtqWkv2YE_k6g=s64",
      "userId": "13042916198969597424"
     },
     "user_tz": 0
    },
    "id": "3nmf6RzEwu_0",
    "outputId": "b10629b8-ad39-4cbe-e551-572139812adb"
   },
   "outputs": [],
   "source": []
  },
  {
   "cell_type": "markdown",
   "metadata": {},
   "source": [
    "```Python\n",
    "print(np.dot(A, B)) # matrix multiplication\n",
    "```"
   ]
  },
  {
   "cell_type": "code",
   "execution_count": null,
   "metadata": {
    "colab": {
     "base_uri": "https://localhost:8080/",
     "height": 51
    },
    "colab_type": "code",
    "executionInfo": {
     "elapsed": 1849,
     "status": "ok",
     "timestamp": 1584445308681,
     "user": {
      "displayName": "Jon Shiach",
      "photoUrl": "https://lh3.googleusercontent.com/a-/AOh14Gg5Zyp_bzksR5YWaZRwn4VACXUUvYtqWkv2YE_k6g=s64",
      "userId": "13042916198969597424"
     },
     "user_tz": 0
    },
    "id": "RqvoX0QUwu_2",
    "outputId": "71e74087-782b-4049-c717-66909a02a334"
   },
   "outputs": [],
   "source": []
  },
  {
   "cell_type": "markdown",
   "metadata": {},
   "source": [
    "```Python\n",
    "print(A3) # element-wise power\n",
    "```"
   ]
  },
  {
   "cell_type": "code",
   "execution_count": null,
   "metadata": {
    "colab": {
     "base_uri": "https://localhost:8080/",
     "height": 51
    },
    "colab_type": "code",
    "executionInfo": {
     "elapsed": 515,
     "status": "ok",
     "timestamp": 1585238654881,
     "user": {
      "displayName": "Jon Shiach",
      "photoUrl": "https://lh3.googleusercontent.com/a-/AOh14Gg5Zyp_bzksR5YWaZRwn4VACXUUvYtqWkv2YE_k6g=s64",
      "userId": "13042916198969597424"
     },
     "user_tz": 0
    },
    "id": "U3GV3JIawu_5",
    "outputId": "772b094c-9e24-4298-da5f-883367520001"
   },
   "outputs": [],
   "source": []
  },
  {
   "cell_type": "markdown",
   "metadata": {},
   "source": [
    "```Python\n",
    "print(np.linalg.matrix_power(A, 3)) # matrix power\n",
    "```"
   ]
  },
  {
   "cell_type": "code",
   "execution_count": null,
   "metadata": {
    "colab": {
     "base_uri": "https://localhost:8080/",
     "height": 51
    },
    "colab_type": "code",
    "executionInfo": {
     "elapsed": 502,
     "status": "ok",
     "timestamp": 1585238676947,
     "user": {
      "displayName": "Jon Shiach",
      "photoUrl": "https://lh3.googleusercontent.com/a-/AOh14Gg5Zyp_bzksR5YWaZRwn4VACXUUvYtqWkv2YE_k6g=s64",
      "userId": "13042916198969597424"
     },
     "user_tz": 0
    },
    "id": "_rGagMORwu_7",
    "outputId": "f0dc8bc0-60fc-4b08-c1a5-66a5cf9f7a37"
   },
   "outputs": [],
   "source": []
  },
  {
   "cell_type": "markdown",
   "metadata": {},
   "source": [
    "```Python\n",
    "print(A.T) # matrix transpose\n",
    "```"
   ]
  },
  {
   "cell_type": "code",
   "execution_count": null,
   "metadata": {
    "colab": {
     "base_uri": "https://localhost:8080/",
     "height": 51
    },
    "colab_type": "code",
    "executionInfo": {
     "elapsed": 1837,
     "status": "ok",
     "timestamp": 1584445308681,
     "user": {
      "displayName": "Jon Shiach",
      "photoUrl": "https://lh3.googleusercontent.com/a-/AOh14Gg5Zyp_bzksR5YWaZRwn4VACXUUvYtqWkv2YE_k6g=s64",
      "userId": "13042916198969597424"
     },
     "user_tz": 0
    },
    "id": "5Ype4XaFwu_8",
    "outputId": "31dd906e-497d-4216-ee45-9840b24ccc76"
   },
   "outputs": [],
   "source": []
  },
  {
   "cell_type": "markdown",
   "metadata": {},
   "source": [
    "```Python\n",
    "print(np.linalg.det(A)) # matrix determinant\n",
    "```"
   ]
  },
  {
   "cell_type": "code",
   "execution_count": null,
   "metadata": {
    "colab": {
     "base_uri": "https://localhost:8080/",
     "height": 34
    },
    "colab_type": "code",
    "executionInfo": {
     "elapsed": 1806,
     "status": "ok",
     "timestamp": 1584445308682,
     "user": {
      "displayName": "Jon Shiach",
      "photoUrl": "https://lh3.googleusercontent.com/a-/AOh14Gg5Zyp_bzksR5YWaZRwn4VACXUUvYtqWkv2YE_k6g=s64",
      "userId": "13042916198969597424"
     },
     "user_tz": 0
    },
    "id": "o-C_LJ9Dwu_-",
    "outputId": "85a789f2-b871-4250-e130-9e102dc30bc4"
   },
   "outputs": [],
   "source": []
  },
  {
   "cell_type": "markdown",
   "metadata": {},
   "source": [
    "```Python\n",
    "print(np.linalg.inv(A)) # inverse matrix\n",
    "```"
   ]
  },
  {
   "cell_type": "code",
   "execution_count": null,
   "metadata": {
    "colab": {
     "base_uri": "https://localhost:8080/",
     "height": 51
    },
    "colab_type": "code",
    "executionInfo": {
     "elapsed": 1802,
     "status": "ok",
     "timestamp": 1584445308682,
     "user": {
      "displayName": "Jon Shiach",
      "photoUrl": "https://lh3.googleusercontent.com/a-/AOh14Gg5Zyp_bzksR5YWaZRwn4VACXUUvYtqWkv2YE_k6g=s64",
      "userId": "13042916198969597424"
     },
     "user_tz": 0
    },
    "id": "XEmVtG99wvAB",
    "outputId": "9078c1b3-48b3-4d44-c666-e7b08b2c8ecc"
   },
   "outputs": [],
   "source": []
  },
  {
   "cell_type": "markdown",
   "metadata": {},
   "source": [
    "```Python\n",
    "print(np.sin(A)) # sin of the values in matrix A\n",
    "```"
   ]
  },
  {
   "cell_type": "code",
   "execution_count": null,
   "metadata": {
    "colab": {
     "base_uri": "https://localhost:8080/",
     "height": 51
    },
    "colab_type": "code",
    "executionInfo": {
     "elapsed": 1798,
     "status": "ok",
     "timestamp": 1584445308682,
     "user": {
      "displayName": "Jon Shiach",
      "photoUrl": "https://lh3.googleusercontent.com/a-/AOh14Gg5Zyp_bzksR5YWaZRwn4VACXUUvYtqWkv2YE_k6g=s64",
      "userId": "13042916198969597424"
     },
     "user_tz": 0
    },
    "id": "qfwaooczwvAC",
    "outputId": "165f6089-7b78-4262-a4b2-929379fecd04"
   },
   "outputs": [],
   "source": []
  },
  {
   "cell_type": "markdown",
   "metadata": {
    "colab_type": "text",
    "id": "AUZsKXsmGflP"
   },
   "source": [
    "---\n",
    "## Exercise 4 - Matrix and array operations"
   ]
  },
  {
   "cell_type": "markdown",
   "metadata": {
    "colab_type": "text",
    "id": "poDj6o3cMGrq"
   },
   "source": [
    "7. Define arrays corresponding to \n",
    "\n",
    "$$A = \\begin{bmatrix} 1 & 4 & -2 \\\\ 0 & 5 & 7 \\\\ 4 & 1 & -9 \\end{bmatrix}, \\qquad B = \\begin{bmatrix} 5 & 1 & 8 \\\\ -4 & -2 & 0 \\\\ 5 & 11 & 3 \\end{bmatrix}.$$"
   ]
  },
  {
   "cell_type": "code",
   "execution_count": null,
   "metadata": {
    "colab": {},
    "colab_type": "code",
    "id": "lxVnjQNhMG1w"
   },
   "outputs": [],
   "source": []
  },
  {
   "cell_type": "markdown",
   "metadata": {
    "colab_type": "text",
    "id": "zgXADCTTN9kk"
   },
   "source": [
    "8. Use the arrays you defined in question 7 to calculate:\n",
    "\n",
    "(a) $A - 3B$;"
   ]
  },
  {
   "cell_type": "code",
   "execution_count": null,
   "metadata": {
    "colab": {
     "base_uri": "https://localhost:8080/",
     "height": 68
    },
    "colab_type": "code",
    "executionInfo": {
     "elapsed": 1793,
     "status": "ok",
     "timestamp": 1584445308683,
     "user": {
      "displayName": "Jon Shiach",
      "photoUrl": "https://lh3.googleusercontent.com/a-/AOh14Gg5Zyp_bzksR5YWaZRwn4VACXUUvYtqWkv2YE_k6g=s64",
      "userId": "13042916198969597424"
     },
     "user_tz": 0
    },
    "id": "jQKIzRHPOEjc",
    "outputId": "bc4bcc99-e625-4b34-8ce9-c1c29480eef1"
   },
   "outputs": [],
   "source": []
  },
  {
   "cell_type": "markdown",
   "metadata": {
    "colab_type": "text",
    "id": "KLW558uPMG9c"
   },
   "source": [
    "(b) $[A]_{ij}[B]_{ij}$;"
   ]
  },
  {
   "cell_type": "code",
   "execution_count": null,
   "metadata": {
    "colab": {
     "base_uri": "https://localhost:8080/",
     "height": 68
    },
    "colab_type": "code",
    "executionInfo": {
     "elapsed": 1789,
     "status": "ok",
     "timestamp": 1584445308683,
     "user": {
      "displayName": "Jon Shiach",
      "photoUrl": "https://lh3.googleusercontent.com/a-/AOh14Gg5Zyp_bzksR5YWaZRwn4VACXUUvYtqWkv2YE_k6g=s64",
      "userId": "13042916198969597424"
     },
     "user_tz": 0
    },
    "id": "qs1CYb7ZMHFK",
    "outputId": "fe4beed6-aef3-4016-c63a-1e18cf09bf79"
   },
   "outputs": [],
   "source": []
  },
  {
   "cell_type": "markdown",
   "metadata": {
    "colab_type": "text",
    "id": "mNsT9zrdMHNd"
   },
   "source": [
    "(c) $AB$;"
   ]
  },
  {
   "cell_type": "code",
   "execution_count": null,
   "metadata": {
    "colab": {
     "base_uri": "https://localhost:8080/",
     "height": 68
    },
    "colab_type": "code",
    "executionInfo": {
     "elapsed": 1785,
     "status": "ok",
     "timestamp": 1584445308683,
     "user": {
      "displayName": "Jon Shiach",
      "photoUrl": "https://lh3.googleusercontent.com/a-/AOh14Gg5Zyp_bzksR5YWaZRwn4VACXUUvYtqWkv2YE_k6g=s64",
      "userId": "13042916198969597424"
     },
     "user_tz": 0
    },
    "id": "C1QO5qUvMHVk",
    "outputId": "c0125236-e73b-4626-d813-87b656133275"
   },
   "outputs": [],
   "source": []
  },
  {
   "cell_type": "markdown",
   "metadata": {
    "colab_type": "text",
    "id": "G3gFURXbMHc7"
   },
   "source": [
    "(d) $BA$;"
   ]
  },
  {
   "cell_type": "code",
   "execution_count": null,
   "metadata": {
    "colab": {
     "base_uri": "https://localhost:8080/",
     "height": 68
    },
    "colab_type": "code",
    "executionInfo": {
     "elapsed": 1782,
     "status": "ok",
     "timestamp": 1584445308684,
     "user": {
      "displayName": "Jon Shiach",
      "photoUrl": "https://lh3.googleusercontent.com/a-/AOh14Gg5Zyp_bzksR5YWaZRwn4VACXUUvYtqWkv2YE_k6g=s64",
      "userId": "13042916198969597424"
     },
     "user_tz": 0
    },
    "id": "FYWJyqwoMHkB",
    "outputId": "487c208b-8def-4336-ef68-a6870d496f5d"
   },
   "outputs": [],
   "source": []
  },
  {
   "cell_type": "markdown",
   "metadata": {
    "colab_type": "text",
    "id": "DlD3EXIcMHrL"
   },
   "source": [
    "(e) $ABA$;"
   ]
  },
  {
   "cell_type": "code",
   "execution_count": null,
   "metadata": {
    "colab": {
     "base_uri": "https://localhost:8080/",
     "height": 68
    },
    "colab_type": "code",
    "executionInfo": {
     "elapsed": 1779,
     "status": "ok",
     "timestamp": 1584445308684,
     "user": {
      "displayName": "Jon Shiach",
      "photoUrl": "https://lh3.googleusercontent.com/a-/AOh14Gg5Zyp_bzksR5YWaZRwn4VACXUUvYtqWkv2YE_k6g=s64",
      "userId": "13042916198969597424"
     },
     "user_tz": 0
    },
    "id": "yAxQNaFbMHyw",
    "outputId": "7de342bf-b271-4d4f-988c-0a1c9c32399e"
   },
   "outputs": [],
   "source": []
  },
  {
   "cell_type": "markdown",
   "metadata": {
    "colab_type": "text",
    "id": "PIJlr-OcMH6S"
   },
   "source": [
    "(f) all elements of $B$ raised to the power of 3;"
   ]
  },
  {
   "cell_type": "code",
   "execution_count": null,
   "metadata": {
    "colab": {
     "base_uri": "https://localhost:8080/",
     "height": 68
    },
    "colab_type": "code",
    "executionInfo": {
     "elapsed": 1776,
     "status": "ok",
     "timestamp": 1584445308684,
     "user": {
      "displayName": "Jon Shiach",
      "photoUrl": "https://lh3.googleusercontent.com/a-/AOh14Gg5Zyp_bzksR5YWaZRwn4VACXUUvYtqWkv2YE_k6g=s64",
      "userId": "13042916198969597424"
     },
     "user_tz": 0
    },
    "id": "TtJfHO9cMIBe",
    "outputId": "d345f0a6-5ab6-492e-8674-2378159d6a5a"
   },
   "outputs": [],
   "source": []
  },
  {
   "cell_type": "markdown",
   "metadata": {
    "colab_type": "text",
    "id": "qOY7uS6wMIH1"
   },
   "source": [
    "(g) $B^3$;"
   ]
  },
  {
   "cell_type": "code",
   "execution_count": null,
   "metadata": {
    "colab": {
     "base_uri": "https://localhost:8080/",
     "height": 68
    },
    "colab_type": "code",
    "executionInfo": {
     "elapsed": 1772,
     "status": "ok",
     "timestamp": 1584445308684,
     "user": {
      "displayName": "Jon Shiach",
      "photoUrl": "https://lh3.googleusercontent.com/a-/AOh14Gg5Zyp_bzksR5YWaZRwn4VACXUUvYtqWkv2YE_k6g=s64",
      "userId": "13042916198969597424"
     },
     "user_tz": 0
    },
    "id": "kBuU32o_MIPK",
    "outputId": "41afa003-8259-4a85-d93b-2fff5d94395b"
   },
   "outputs": [],
   "source": []
  },
  {
   "cell_type": "markdown",
   "metadata": {
    "colab_type": "text",
    "id": "VAIjtsOgMIV4"
   },
   "source": [
    "(h) $A^T$;"
   ]
  },
  {
   "cell_type": "code",
   "execution_count": null,
   "metadata": {
    "colab": {
     "base_uri": "https://localhost:8080/",
     "height": 68
    },
    "colab_type": "code",
    "executionInfo": {
     "elapsed": 1769,
     "status": "ok",
     "timestamp": 1584445308685,
     "user": {
      "displayName": "Jon Shiach",
      "photoUrl": "https://lh3.googleusercontent.com/a-/AOh14Gg5Zyp_bzksR5YWaZRwn4VACXUUvYtqWkv2YE_k6g=s64",
      "userId": "13042916198969597424"
     },
     "user_tz": 0
    },
    "id": "Dl0rIuGzMIc4",
    "outputId": "fb314269-19ed-4e7b-cf23-44c5459fcf70"
   },
   "outputs": [],
   "source": []
  },
  {
   "cell_type": "markdown",
   "metadata": {
    "colab_type": "text",
    "id": "4q52YRFoMIkH"
   },
   "source": [
    "(i) $\\det(A)$;"
   ]
  },
  {
   "cell_type": "code",
   "execution_count": null,
   "metadata": {
    "colab": {
     "base_uri": "https://localhost:8080/",
     "height": 34
    },
    "colab_type": "code",
    "executionInfo": {
     "elapsed": 1766,
     "status": "ok",
     "timestamp": 1584445308685,
     "user": {
      "displayName": "Jon Shiach",
      "photoUrl": "https://lh3.googleusercontent.com/a-/AOh14Gg5Zyp_bzksR5YWaZRwn4VACXUUvYtqWkv2YE_k6g=s64",
      "userId": "13042916198969597424"
     },
     "user_tz": 0
    },
    "id": "sedsYXZSNqQX",
    "outputId": "749660c6-dac7-405b-c60b-f3118bfa70a9"
   },
   "outputs": [],
   "source": []
  },
  {
   "cell_type": "markdown",
   "metadata": {
    "colab_type": "text",
    "id": "1JLEbAU3NpjM"
   },
   "source": [
    "(j) $A^{-1}$;"
   ]
  },
  {
   "cell_type": "code",
   "execution_count": null,
   "metadata": {
    "colab": {
     "base_uri": "https://localhost:8080/",
     "height": 68
    },
    "colab_type": "code",
    "executionInfo": {
     "elapsed": 1762,
     "status": "ok",
     "timestamp": 1584445308685,
     "user": {
      "displayName": "Jon Shiach",
      "photoUrl": "https://lh3.googleusercontent.com/a-/AOh14Gg5Zyp_bzksR5YWaZRwn4VACXUUvYtqWkv2YE_k6g=s64",
      "userId": "13042916198969597424"
     },
     "user_tz": 0
    },
    "id": "5cRdiq0aNrFw",
    "outputId": "d11a3f80-a4a3-437c-c0e2-99e81d1ad0ea"
   },
   "outputs": [],
   "source": []
  },
  {
   "cell_type": "markdown",
   "metadata": {
    "colab_type": "text",
    "id": "q975JgUbNrLl"
   },
   "source": [
    "(k) $\\cos(B)$."
   ]
  },
  {
   "cell_type": "code",
   "execution_count": null,
   "metadata": {
    "colab": {
     "base_uri": "https://localhost:8080/",
     "height": 68
    },
    "colab_type": "code",
    "executionInfo": {
     "elapsed": 1758,
     "status": "ok",
     "timestamp": 1584445308685,
     "user": {
      "displayName": "Jon Shiach",
      "photoUrl": "https://lh3.googleusercontent.com/a-/AOh14Gg5Zyp_bzksR5YWaZRwn4VACXUUvYtqWkv2YE_k6g=s64",
      "userId": "13042916198969597424"
     },
     "user_tz": 0
    },
    "id": "vy61LrK4NrSh",
    "outputId": "e19744ef-b395-4678-c53d-84fb926e1ff3"
   },
   "outputs": [],
   "source": []
  }
 ],
 "metadata": {
  "colab": {
   "name": "3_arrays.ipynb",
   "provenance": [],
   "toc_visible": true
  },
  "kernelspec": {
   "display_name": "Python 3",
   "language": "python",
   "name": "python3"
  },
  "language_info": {
   "codemirror_mode": {
    "name": "ipython",
    "version": 3
   },
   "file_extension": ".py",
   "mimetype": "text/x-python",
   "name": "python",
   "nbconvert_exporter": "python",
   "pygments_lexer": "ipython3",
   "version": "3.8.3"
  }
 },
 "nbformat": 4,
 "nbformat_minor": 4
}
